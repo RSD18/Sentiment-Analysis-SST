{
  "nbformat": 4,
  "nbformat_minor": 0,
  "metadata": {
    "colab": {
      "name": "Sentiment Analysis - SST",
      "provenance": [],
      "collapsed_sections": [],
      "include_colab_link": true
    },
    "kernelspec": {
      "name": "python3",
      "display_name": "Python 3"
    },
    "accelerator": "TPU"
  },
  "cells": [
    {
      "cell_type": "markdown",
      "metadata": {
        "id": "view-in-github",
        "colab_type": "text"
      },
      "source": [
        "<a href=\"https://colab.research.google.com/github/RSD18/Sentiment-Analysis-SST/blob/master/Sentiment_Analysis_SST.ipynb\" target=\"_parent\"><img src=\"https://colab.research.google.com/assets/colab-badge.svg\" alt=\"Open In Colab\"/></a>"
      ]
    },
    {
      "cell_type": "markdown",
      "metadata": {
        "id": "xmamxdSRjMZc",
        "colab_type": "text"
      },
      "source": [
        "Mounting Google Drive"
      ]
    },
    {
      "cell_type": "code",
      "metadata": {
        "id": "2sOb33Vy6-eD",
        "colab_type": "code",
        "outputId": "070f54c7-8cc8-417c-9dba-e177a5a657c3",
        "colab": {
          "base_uri": "https://localhost:8080/",
          "height": 126
        }
      },
      "source": [
        "from google.colab import drive\n",
        "drive.mount('/content/drive')"
      ],
      "execution_count": 0,
      "outputs": [
        {
          "output_type": "stream",
          "text": [
            "Go to this URL in a browser: https://accounts.google.com/o/oauth2/auth?client_id=947318989803-6bn6qk8qdgf4n4g3pfee6491hc0brc4i.apps.googleusercontent.com&redirect_uri=urn%3aietf%3awg%3aoauth%3a2.0%3aoob&response_type=code&scope=email%20https%3a%2f%2fwww.googleapis.com%2fauth%2fdocs.test%20https%3a%2f%2fwww.googleapis.com%2fauth%2fdrive%20https%3a%2f%2fwww.googleapis.com%2fauth%2fdrive.photos.readonly%20https%3a%2f%2fwww.googleapis.com%2fauth%2fpeopleapi.readonly\n",
            "\n",
            "Enter your authorization code:\n",
            "··········\n",
            "Mounted at /content/drive\n"
          ],
          "name": "stdout"
        }
      ]
    },
    {
      "cell_type": "markdown",
      "metadata": {
        "id": "0e-JFLANjUDo",
        "colab_type": "text"
      },
      "source": [
        "Importing Libraries"
      ]
    },
    {
      "cell_type": "code",
      "metadata": {
        "id": "eMrm7gPpoVCv",
        "colab_type": "code",
        "outputId": "138e0c2a-9763-4e53-cbec-860c317907f9",
        "colab": {
          "base_uri": "https://localhost:8080/",
          "height": 52
        }
      },
      "source": [
        "import numpy as np\n",
        "import pandas as pd\n",
        "from matplotlib import pyplot as plt\n",
        "from sklearn.datasets import load_breast_cancer\n",
        "from sklearn.metrics import confusion_matrix\n",
        "from sklearn.linear_model import SGDClassifier\n",
        "smx=SGDClassifier()\n",
        "from sklearn.neighbors import KNeighborsClassifier\n",
        "from sklearn.linear_model import LinearRegression\n",
        "from sklearn.linear_model import LogisticRegression\n",
        "from sklearn.tree import DecisionTreeClassifier\n",
        "from sklearn.cluster import KMeans\n",
        "from sklearn.ensemble import RandomForestRegressor\n",
        "from sklearn.svm import SVC\n",
        "from sklearn.naive_bayes import GaussianNB\n",
        "from xgboost import XGBClassifier\n",
        "from sklearn.ensemble import GradientBoostingClassifier\n",
        "from sklearn.metrics import accuracy_score\n",
        "from sklearn.preprocessing import StandardScaler\n",
        "from sklearn.preprocessing import OneHotEncoder\n",
        "from sklearn.model_selection import train_test_split\n",
        "import seaborn as sns\n",
        "lr=LogisticRegression()\n",
        "knn = KNeighborsClassifier(n_neighbors=5, metric='euclidean')\n",
        "de_gi= DecisionTreeClassifier(criterion = \"gini\", random_state = 100,\n",
        "                               max_depth=2, min_samples_leaf=5)\n",
        "km=KMeans(n_clusters=2)\n",
        "rf = RandomForestRegressor()\n",
        "sv=SVC(kernel='poly')\n",
        "xgb_1=XGBClassifier()\n",
        "gb_1=GradientBoostingClassifier()\n",
        "gnb_1=GaussianNB()"
      ],
      "execution_count": 1,
      "outputs": [
        {
          "output_type": "stream",
          "text": [
            "/usr/local/lib/python3.6/dist-packages/statsmodels/tools/_testing.py:19: FutureWarning: pandas.util.testing is deprecated. Use the functions in the public API at pandas.testing instead.\n",
            "  import pandas.util.testing as tm\n"
          ],
          "name": "stderr"
        }
      ]
    },
    {
      "cell_type": "code",
      "metadata": {
        "id": "k3xtRdkpJzGi",
        "colab_type": "code",
        "outputId": "a2afd3db-fce0-4c1c-851c-961d14bbe03c",
        "colab": {
          "base_uri": "https://localhost:8080/",
          "height": 870
        }
      },
      "source": [
        "!pip install sentence-transformers\n",
        "from sentence_transformers import SentenceTransformer"
      ],
      "execution_count": 0,
      "outputs": [
        {
          "output_type": "stream",
          "text": [
            "Collecting sentence-transformers\n",
            "\u001b[?25l  Downloading https://files.pythonhosted.org/packages/b9/46/b7d6c37d92d1bd65319220beabe4df845434930e3f30e42d3cfaecb74dc4/sentence-transformers-0.2.6.1.tar.gz (55kB)\n",
            "\u001b[K     |████████████████████████████████| 61kB 2.4MB/s \n",
            "\u001b[?25hCollecting transformers>=2.8.0\n",
            "\u001b[?25l  Downloading https://files.pythonhosted.org/packages/a3/78/92cedda05552398352ed9784908b834ee32a0bd071a9b32de287327370b7/transformers-2.8.0-py3-none-any.whl (563kB)\n",
            "\u001b[K     |████████████████████████████████| 573kB 9.9MB/s \n",
            "\u001b[?25hRequirement already satisfied: tqdm in /usr/local/lib/python3.6/dist-packages (from sentence-transformers) (4.38.0)\n",
            "Requirement already satisfied: torch>=1.0.1 in /usr/local/lib/python3.6/dist-packages (from sentence-transformers) (1.4.0)\n",
            "Requirement already satisfied: numpy in /usr/local/lib/python3.6/dist-packages (from sentence-transformers) (1.18.2)\n",
            "Requirement already satisfied: scikit-learn in /usr/local/lib/python3.6/dist-packages (from sentence-transformers) (0.22.2.post1)\n",
            "Requirement already satisfied: scipy in /usr/local/lib/python3.6/dist-packages (from sentence-transformers) (1.4.1)\n",
            "Requirement already satisfied: nltk in /usr/local/lib/python3.6/dist-packages (from sentence-transformers) (3.2.5)\n",
            "Requirement already satisfied: boto3 in /usr/local/lib/python3.6/dist-packages (from transformers>=2.8.0->sentence-transformers) (1.12.40)\n",
            "Collecting sentencepiece\n",
            "\u001b[?25l  Downloading https://files.pythonhosted.org/packages/74/f4/2d5214cbf13d06e7cb2c20d84115ca25b53ea76fa1f0ade0e3c9749de214/sentencepiece-0.1.85-cp36-cp36m-manylinux1_x86_64.whl (1.0MB)\n",
            "\u001b[K     |████████████████████████████████| 1.0MB 38.6MB/s \n",
            "\u001b[?25hRequirement already satisfied: requests in /usr/local/lib/python3.6/dist-packages (from transformers>=2.8.0->sentence-transformers) (2.21.0)\n",
            "Collecting tokenizers==0.5.2\n",
            "\u001b[?25l  Downloading https://files.pythonhosted.org/packages/d1/3f/73c881ea4723e43c1e9acf317cf407fab3a278daab3a69c98dcac511c04f/tokenizers-0.5.2-cp36-cp36m-manylinux1_x86_64.whl (3.7MB)\n",
            "\u001b[K     |████████████████████████████████| 3.7MB 43.8MB/s \n",
            "\u001b[?25hRequirement already satisfied: filelock in /usr/local/lib/python3.6/dist-packages (from transformers>=2.8.0->sentence-transformers) (3.0.12)\n",
            "Collecting sacremoses\n",
            "\u001b[?25l  Downloading https://files.pythonhosted.org/packages/99/50/93509f906a40bffd7d175f97fd75ea328ad9bd91f48f59c4bd084c94a25e/sacremoses-0.0.41.tar.gz (883kB)\n",
            "\u001b[K     |████████████████████████████████| 890kB 39.5MB/s \n",
            "\u001b[?25hRequirement already satisfied: regex!=2019.12.17 in /usr/local/lib/python3.6/dist-packages (from transformers>=2.8.0->sentence-transformers) (2019.12.20)\n",
            "Requirement already satisfied: dataclasses; python_version < \"3.7\" in /usr/local/lib/python3.6/dist-packages (from transformers>=2.8.0->sentence-transformers) (0.7)\n",
            "Requirement already satisfied: joblib>=0.11 in /usr/local/lib/python3.6/dist-packages (from scikit-learn->sentence-transformers) (0.14.1)\n",
            "Requirement already satisfied: six in /usr/local/lib/python3.6/dist-packages (from nltk->sentence-transformers) (1.12.0)\n",
            "Requirement already satisfied: jmespath<1.0.0,>=0.7.1 in /usr/local/lib/python3.6/dist-packages (from boto3->transformers>=2.8.0->sentence-transformers) (0.9.5)\n",
            "Requirement already satisfied: s3transfer<0.4.0,>=0.3.0 in /usr/local/lib/python3.6/dist-packages (from boto3->transformers>=2.8.0->sentence-transformers) (0.3.3)\n",
            "Requirement already satisfied: botocore<1.16.0,>=1.15.40 in /usr/local/lib/python3.6/dist-packages (from boto3->transformers>=2.8.0->sentence-transformers) (1.15.40)\n",
            "Requirement already satisfied: urllib3<1.25,>=1.21.1 in /usr/local/lib/python3.6/dist-packages (from requests->transformers>=2.8.0->sentence-transformers) (1.24.3)\n",
            "Requirement already satisfied: certifi>=2017.4.17 in /usr/local/lib/python3.6/dist-packages (from requests->transformers>=2.8.0->sentence-transformers) (2020.4.5.1)\n",
            "Requirement already satisfied: idna<2.9,>=2.5 in /usr/local/lib/python3.6/dist-packages (from requests->transformers>=2.8.0->sentence-transformers) (2.8)\n",
            "Requirement already satisfied: chardet<3.1.0,>=3.0.2 in /usr/local/lib/python3.6/dist-packages (from requests->transformers>=2.8.0->sentence-transformers) (3.0.4)\n",
            "Requirement already satisfied: click in /usr/local/lib/python3.6/dist-packages (from sacremoses->transformers>=2.8.0->sentence-transformers) (7.1.1)\n",
            "Requirement already satisfied: docutils<0.16,>=0.10 in /usr/local/lib/python3.6/dist-packages (from botocore<1.16.0,>=1.15.40->boto3->transformers>=2.8.0->sentence-transformers) (0.15.2)\n",
            "Requirement already satisfied: python-dateutil<3.0.0,>=2.1 in /usr/local/lib/python3.6/dist-packages (from botocore<1.16.0,>=1.15.40->boto3->transformers>=2.8.0->sentence-transformers) (2.8.1)\n",
            "Building wheels for collected packages: sentence-transformers, sacremoses\n",
            "  Building wheel for sentence-transformers (setup.py) ... \u001b[?25l\u001b[?25hdone\n",
            "  Created wheel for sentence-transformers: filename=sentence_transformers-0.2.6.1-cp36-none-any.whl size=74031 sha256=7329f84a4a7e5b56d40ede60926fc99e79f8d83f13c1eef49e657894d0f61d90\n",
            "  Stored in directory: /root/.cache/pip/wheels/d7/fa/17/2b081a8cd8b0a86753fb0e9826b3cc19f0207062c0b2da7008\n",
            "  Building wheel for sacremoses (setup.py) ... \u001b[?25l\u001b[?25hdone\n",
            "  Created wheel for sacremoses: filename=sacremoses-0.0.41-cp36-none-any.whl size=893334 sha256=c34a3e96ab6208758de77054747eb25549005fbe13fcac78dda48a80e97ebeac\n",
            "  Stored in directory: /root/.cache/pip/wheels/22/5a/d4/b020a81249de7dc63758a34222feaa668dbe8ebfe9170cc9b1\n",
            "Successfully built sentence-transformers sacremoses\n",
            "Installing collected packages: sentencepiece, tokenizers, sacremoses, transformers, sentence-transformers\n",
            "Successfully installed sacremoses-0.0.41 sentence-transformers-0.2.6.1 sentencepiece-0.1.85 tokenizers-0.5.2 transformers-2.8.0\n"
          ],
          "name": "stdout"
        }
      ]
    },
    {
      "cell_type": "code",
      "metadata": {
        "id": "b4RcD7ouP4Ds",
        "colab_type": "code",
        "colab": {}
      },
      "source": [
        "model = SentenceTransformer('bert-base-nli-mean-tokens')\n",
        "sentences = ['This framework generates embeddings for each input sentence',  'Sentences are passed as a list of string.', 'The quick brown fox jumps over the lazy dog.']\n",
        "sentence_embeddings = model.encode(sentences)\n",
        "for sentence, embedding in zip(sentences, sentence_embeddings):\n",
        "    print(\"Sentence:\", sentence)\n",
        "    print(\"Embedding:\", embedding)\n",
        "    print(\"\")\n"
      ],
      "execution_count": 0,
      "outputs": []
    },
    {
      "cell_type": "markdown",
      "metadata": {
        "id": "4yudzAd-japQ",
        "colab_type": "text"
      },
      "source": [
        "Py-Torch,sentence embeddings\n"
      ]
    },
    {
      "cell_type": "code",
      "metadata": {
        "id": "iXHuDBSGj8Au",
        "colab_type": "code",
        "outputId": "b102bf37-8788-4dae-ccf1-58ae13dc3cb4",
        "colab": {
          "base_uri": "https://localhost:8080/",
          "height": 512
        }
      },
      "source": [
        "# !pip install pytorch-pretrained-bert\n",
        "import torch\n",
        "from pytorch_pretrained_bert import BertTokenizer, BertModel, BertForMaskedLM\n",
        "\n",
        "# OPTIONAL: if you want to have more information on what's happening, activate the logger as follows\n",
        "import logging\n",
        "#logging.basicConfig(level=logging.INFO)\n",
        "\n",
        "import matplotlib.pyplot as plt\n",
        "% matplotlib inline\n",
        "\n",
        "# Load pre-trained model tokenizer (vocabulary)\n",
        "tokenizer = BertTokenizer.from_pretrained('bert-base-uncased')\n",
        "text = \"Here is the sentence I want embeddings for.\"\n",
        "marked_text = \"[CLS] \" + text + \" [SEP]\"\n",
        "\n",
        "# Tokenize our sentence with the BERT tokenizer.\n",
        "tokenized_text = tokenizer.tokenize(marked_text)\n",
        "\n",
        "# Print out the tokens.\n",
        "print (tokenized_text)\n",
        "# Define a new example sentence with multiple meanings of the word \"bank\"\n",
        "text = \"After stealing money from the bank vault, the bank robber was seen \" \\\n",
        "       \"fishing on the Mississippi river bank.\"\n",
        "\n",
        "# Add the special tokens.\n",
        "marked_text = \"[CLS] \" + text + \" [SEP]\"\n",
        "\n",
        "# Split the sentence into tokens.\n",
        "tokenized_text = tokenizer.tokenize(marked_text)\n",
        "\n",
        "# Map the token strings to their vocabulary indeces.\n",
        "indexed_tokens = tokenizer.convert_tokens_to_ids(tokenized_text)\n",
        "\n",
        "# Display the words with their indeces.\n",
        "for tup in zip(tokenized_text, indexed_tokens):\n",
        "    print('{:<12} {:>6,}'.format(tup[0], tup[1]))\n",
        "    # Mark each of the 22 tokens as belonging to sentence \"1\".\n",
        "segments_ids = [1] * len(tokenized_text)\n",
        "\n",
        "print (segments_ids)\n",
        "# Convert inputs to PyTorch tensors\n",
        "tokens_tensor = torch.tensor([indexed_tokens])\n",
        "segments_tensors = torch.tensor([segments_ids])\n",
        "\n",
        "# Load pre-trained model (weights)\n",
        "model = BertModel.from_pretrained('bert-base-uncased')\n",
        "\n",
        "# Put the model in \"evaluation\" mode, meaning feed-forward operation.\n",
        "model.eval()\n",
        "with torch.no_grad():\n",
        "    encoded_layers, _ = model(tokens_tensor, segments_tensors)\n",
        "print (\"Number of layers:\", len(encoded_layers))\n",
        "layer_i = 0\n",
        "\n",
        "print (\"Number of batches:\", len(encoded_layers[layer_i]))\n",
        "batch_i = 0\n",
        "\n",
        "print (\"Number of tokens:\", len(encoded_layers[layer_i][batch_i]))\n",
        "token_i = 0\n",
        "\n",
        "print (\"Number of hidden units:\", len(encoded_layers[layer_i][batch_i][token_i]))\n",
        "\n",
        "# Concatenate the tensors for all layers. We use `stack` here to\n",
        "# create a new dimension in the tensor.\n",
        "token_embeddings = torch.stack(encoded_layers, dim=0)\n",
        "\n",
        "token_embeddings.size()\n",
        "# Remove dimension 1, the \"batches\".\n",
        "token_embeddings = torch.squeeze(token_embeddings, dim=1)\n",
        "\n",
        "token_embeddings.size()\n",
        "# Swap dimensions 0 and 1.\n",
        "token_embeddings = token_embeddings.permute(1,0,2)\n",
        "\n",
        "token_embeddings.size()\n",
        "# Stores the token vectors, with shape [22 x 3,072]\n",
        "token_vecs_cat = []\n",
        "\n",
        "# `token_embeddings` is a [22 x 12 x 768] tensor.\n",
        "\n",
        "# For each token in the sentence...\n",
        "for token in token_embeddings:\n",
        "    \n",
        "    # `token` is a [12 x 768] tensor\n",
        "\n",
        "    # Concatenate the vectors (that is, append them together) from the last \n",
        "    # four layers.\n",
        "    # Each layer vector is 768 values, so `cat_vec` is length 3,072.\n",
        "    cat_vec = torch.cat((token[-1], token[-2], token[-3], token[-4]), dim=0)\n",
        "    \n",
        "    # Use `cat_vec` to represent `token`.\n",
        "    token_vecs_cat.append(cat_vec)\n",
        "\n",
        "print ('Shape is: %d x %d' % (len(token_vecs_cat), len(token_vecs_cat[0])))"
      ],
      "execution_count": 0,
      "outputs": [
        {
          "output_type": "stream",
          "text": [
            "['[CLS]', 'after', 'stealing', 'money', 'from', 'the', 'bank', 'vault', ',', 'the', 'bank', 'robber', 'was', 'seen', 'fishing', 'on', 'the', 'mississippi', 'river', 'bank', '.', '[SEP]']\n",
            "[CLS]           101\n",
            "after         2,044\n",
            "stealing     11,065\n",
            "money         2,769\n",
            "from          2,013\n",
            "the           1,996\n",
            "bank          2,924\n",
            "vault        11,632\n",
            ",             1,010\n",
            "the           1,996\n",
            "bank          2,924\n",
            "robber       27,307\n",
            "was           2,001\n",
            "seen          2,464\n",
            "fishing       5,645\n",
            "on            2,006\n",
            "the           1,996\n",
            "mississippi   5,900\n",
            "river         2,314\n",
            "bank          2,924\n",
            ".             1,012\n",
            "[SEP]           102\n",
            "[1, 1, 1, 1, 1, 1, 1, 1, 1, 1, 1, 1, 1, 1, 1, 1, 1, 1, 1, 1, 1, 1]\n",
            "Number of layers: 12\n",
            "Number of batches: 1\n",
            "Number of tokens: 22\n",
            "Number of hidden units: 768\n",
            "Shape is: 22 x 3072\n"
          ],
          "name": "stdout"
        }
      ]
    },
    {
      "cell_type": "code",
      "metadata": {
        "id": "0DRNI1YcJU6F",
        "colab_type": "code",
        "colab": {}
      },
      "source": [
        "import torch\n",
        "torch.Size([12, 1, 22, 768])\n",
        "token_embeddings = torch.squeeze(token_embeddings, dim=1)\n",
        "\n",
        "token_embeddings.size()"
      ],
      "execution_count": 0,
      "outputs": []
    },
    {
      "cell_type": "markdown",
      "metadata": {
        "id": "Mo6Icaivjnbs",
        "colab_type": "text"
      },
      "source": [
        "Loading the dataset"
      ]
    },
    {
      "cell_type": "code",
      "metadata": {
        "id": "cbqjlM1ix9M5",
        "colab_type": "code",
        "outputId": "faa5dd75-3ef9-40a7-8083-a0980d0321fa",
        "colab": {
          "base_uri": "https://localhost:8080/",
          "height": 177
        }
      },
      "source": [
        "!pip install pytreebank\n",
        "\n",
        "\n",
        "import pytreebank\n",
        "sst = pytreebank.load_sst()"
      ],
      "execution_count": 0,
      "outputs": [
        {
          "output_type": "stream",
          "text": [
            "Collecting pytreebank\n",
            "  Downloading https://files.pythonhosted.org/packages/e0/12/626ead6f6c0a0a9617396796b965961e9dfa5e78b36c17a81ea4c43554b1/pytreebank-0.2.7.tar.gz\n",
            "Building wheels for collected packages: pytreebank\n",
            "  Building wheel for pytreebank (setup.py) ... \u001b[?25l\u001b[?25hdone\n",
            "  Created wheel for pytreebank: filename=pytreebank-0.2.7-cp36-none-any.whl size=37072 sha256=3ef2eddcd55acc3a1317522aef33ceddb296c0fa432499f2e5763aacc0459741\n",
            "  Stored in directory: /root/.cache/pip/wheels/e0/b6/91/e9edcdbf464f623628d5c3aa9de28888c726e270b9a29f2368\n",
            "Successfully built pytreebank\n",
            "Installing collected packages: pytreebank\n",
            "Successfully installed pytreebank-0.2.7\n"
          ],
          "name": "stdout"
        }
      ]
    },
    {
      "cell_type": "code",
      "metadata": {
        "id": "z6XrqFzkVN3c",
        "colab_type": "code",
        "outputId": "931a1dd8-e076-491b-8e21-84e00b12d8f8",
        "colab": {
          "base_uri": "https://localhost:8080/",
          "height": 1000
        }
      },
      "source": [
        "sst['train']"
      ],
      "execution_count": 0,
      "outputs": [
        {
          "output_type": "execute_result",
          "data": {
            "text/plain": [
              "[<pytreebank.labeled_trees.LabeledTree at 0x7f4837823b70>,\n",
              " <pytreebank.labeled_trees.LabeledTree at 0x7f481d047208>,\n",
              " <pytreebank.labeled_trees.LabeledTree at 0x7f481d04d828>,\n",
              " <pytreebank.labeled_trees.LabeledTree at 0x7f481d052eb8>,\n",
              " <pytreebank.labeled_trees.LabeledTree at 0x7f481d059ac8>,\n",
              " <pytreebank.labeled_trees.LabeledTree at 0x7f481d059f60>,\n",
              " <pytreebank.labeled_trees.LabeledTree at 0x7f481d062358>,\n",
              " <pytreebank.labeled_trees.LabeledTree at 0x7f481d066080>,\n",
              " <pytreebank.labeled_trees.LabeledTree at 0x7f481d066ba8>,\n",
              " <pytreebank.labeled_trees.LabeledTree at 0x7f481d06b080>,\n",
              " <pytreebank.labeled_trees.LabeledTree at 0x7f481d06b4a8>,\n",
              " <pytreebank.labeled_trees.LabeledTree at 0x7f481d06be80>,\n",
              " <pytreebank.labeled_trees.LabeledTree at 0x7f481c071d30>,\n",
              " <pytreebank.labeled_trees.LabeledTree at 0x7f481c077198>,\n",
              " <pytreebank.labeled_trees.LabeledTree at 0x7f481c07a160>,\n",
              " <pytreebank.labeled_trees.LabeledTree at 0x7f481c07a9e8>,\n",
              " <pytreebank.labeled_trees.LabeledTree at 0x7f481c07f6d8>,\n",
              " <pytreebank.labeled_trees.LabeledTree at 0x7f481c084550>,\n",
              " <pytreebank.labeled_trees.LabeledTree at 0x7f481c08a0b8>,\n",
              " <pytreebank.labeled_trees.LabeledTree at 0x7f481c08a438>,\n",
              " <pytreebank.labeled_trees.LabeledTree at 0x7f481c08ad68>,\n",
              " <pytreebank.labeled_trees.LabeledTree at 0x7f481c08f0f0>,\n",
              " <pytreebank.labeled_trees.LabeledTree at 0x7f481c08fac8>,\n",
              " <pytreebank.labeled_trees.LabeledTree at 0x7f481c093128>,\n",
              " <pytreebank.labeled_trees.LabeledTree at 0x7f481c093ac8>,\n",
              " <pytreebank.labeled_trees.LabeledTree at 0x7f481c098a20>,\n",
              " <pytreebank.labeled_trees.LabeledTree at 0x7f481c09d978>,\n",
              " <pytreebank.labeled_trees.LabeledTree at 0x7f481c09dc18>,\n",
              " <pytreebank.labeled_trees.LabeledTree at 0x7f481c0a23c8>,\n",
              " <pytreebank.labeled_trees.LabeledTree at 0x7f481c0a74e0>,\n",
              " <pytreebank.labeled_trees.LabeledTree at 0x7f481c0a78d0>,\n",
              " <pytreebank.labeled_trees.LabeledTree at 0x7f481c0ac278>,\n",
              " <pytreebank.labeled_trees.LabeledTree at 0x7f481c030ac8>,\n",
              " <pytreebank.labeled_trees.LabeledTree at 0x7f481c0353c8>,\n",
              " <pytreebank.labeled_trees.LabeledTree at 0x7f481c035d30>,\n",
              " <pytreebank.labeled_trees.LabeledTree at 0x7f481c03b668>,\n",
              " <pytreebank.labeled_trees.LabeledTree at 0x7f481c040898>,\n",
              " <pytreebank.labeled_trees.LabeledTree at 0x7f481c0442e8>,\n",
              " <pytreebank.labeled_trees.LabeledTree at 0x7f481c0446a0>,\n",
              " <pytreebank.labeled_trees.LabeledTree at 0x7f481c049b00>,\n",
              " <pytreebank.labeled_trees.LabeledTree at 0x7f481c054860>,\n",
              " <pytreebank.labeled_trees.LabeledTree at 0x7f481c054dd8>,\n",
              " <pytreebank.labeled_trees.LabeledTree at 0x7f481c04c6d8>,\n",
              " <pytreebank.labeled_trees.LabeledTree at 0x7f481c05e240>,\n",
              " <pytreebank.labeled_trees.LabeledTree at 0x7f481c05ed30>,\n",
              " <pytreebank.labeled_trees.LabeledTree at 0x7f481c05bcc0>,\n",
              " <pytreebank.labeled_trees.LabeledTree at 0x7f481c06c400>,\n",
              " <pytreebank.labeled_trees.LabeledTree at 0x7f481bff0080>,\n",
              " <pytreebank.labeled_trees.LabeledTree at 0x7f481bff0a90>,\n",
              " <pytreebank.labeled_trees.LabeledTree at 0x7f481bff57b8>,\n",
              " <pytreebank.labeled_trees.LabeledTree at 0x7f481bffa390>,\n",
              " <pytreebank.labeled_trees.LabeledTree at 0x7f481bfff2e8>,\n",
              " <pytreebank.labeled_trees.LabeledTree at 0x7f481c006438>,\n",
              " <pytreebank.labeled_trees.LabeledTree at 0x7f481c0110f0>,\n",
              " <pytreebank.labeled_trees.LabeledTree at 0x7f481c016668>,\n",
              " <pytreebank.labeled_trees.LabeledTree at 0x7f481c019940>,\n",
              " <pytreebank.labeled_trees.LabeledTree at 0x7f481c0242e8>,\n",
              " <pytreebank.labeled_trees.LabeledTree at 0x7f481c02d2e8>,\n",
              " <pytreebank.labeled_trees.LabeledTree at 0x7f481bfb22b0>,\n",
              " <pytreebank.labeled_trees.LabeledTree at 0x7f481bfb7128>,\n",
              " <pytreebank.labeled_trees.LabeledTree at 0x7f481bfb7e80>,\n",
              " <pytreebank.labeled_trees.LabeledTree at 0x7f481bfbcd30>,\n",
              " <pytreebank.labeled_trees.LabeledTree at 0x7f481bfc15f8>,\n",
              " <pytreebank.labeled_trees.LabeledTree at 0x7f481bfc6080>,\n",
              " <pytreebank.labeled_trees.LabeledTree at 0x7f481bfc68d0>,\n",
              " <pytreebank.labeled_trees.LabeledTree at 0x7f481bfcb160>,\n",
              " <pytreebank.labeled_trees.LabeledTree at 0x7f481bfcbcf8>,\n",
              " <pytreebank.labeled_trees.LabeledTree at 0x7f481bfd1518>,\n",
              " <pytreebank.labeled_trees.LabeledTree at 0x7f481bfd1cc0>,\n",
              " <pytreebank.labeled_trees.LabeledTree at 0x7f481bfd3908>,\n",
              " <pytreebank.labeled_trees.LabeledTree at 0x7f481bfdb7b8>,\n",
              " <pytreebank.labeled_trees.LabeledTree at 0x7f481bfdf048>,\n",
              " <pytreebank.labeled_trees.LabeledTree at 0x7f481bfe40f0>,\n",
              " <pytreebank.labeled_trees.LabeledTree at 0x7f481bfe4390>,\n",
              " <pytreebank.labeled_trees.LabeledTree at 0x7f481bfea748>,\n",
              " <pytreebank.labeled_trees.LabeledTree at 0x7f481bfee9e8>,\n",
              " <pytreebank.labeled_trees.LabeledTree at 0x7f481bfeef98>,\n",
              " <pytreebank.labeled_trees.LabeledTree at 0x7f481bf72e48>,\n",
              " <pytreebank.labeled_trees.LabeledTree at 0x7f481bf77438>,\n",
              " <pytreebank.labeled_trees.LabeledTree at 0x7f481bf77eb8>,\n",
              " <pytreebank.labeled_trees.LabeledTree at 0x7f481bf7d550>,\n",
              " <pytreebank.labeled_trees.LabeledTree at 0x7f481bf82ba8>,\n",
              " <pytreebank.labeled_trees.LabeledTree at 0x7f481bf8d080>,\n",
              " <pytreebank.labeled_trees.LabeledTree at 0x7f481bf93a20>,\n",
              " <pytreebank.labeled_trees.LabeledTree at 0x7f481bf996a0>,\n",
              " <pytreebank.labeled_trees.LabeledTree at 0x7f481bf99978>,\n",
              " <pytreebank.labeled_trees.LabeledTree at 0x7f481bf9d9b0>,\n",
              " <pytreebank.labeled_trees.LabeledTree at 0x7f481bf9df28>,\n",
              " <pytreebank.labeled_trees.LabeledTree at 0x7f481bf8e2b0>,\n",
              " <pytreebank.labeled_trees.LabeledTree at 0x7f481bf8eda0>,\n",
              " <pytreebank.labeled_trees.LabeledTree at 0x7f481bfa6588>,\n",
              " <pytreebank.labeled_trees.LabeledTree at 0x7f481bfa6e80>,\n",
              " <pytreebank.labeled_trees.LabeledTree at 0x7f481bfaba20>,\n",
              " <pytreebank.labeled_trees.LabeledTree at 0x7f481bf35320>,\n",
              " <pytreebank.labeled_trees.LabeledTree at 0x7f481bf3a400>,\n",
              " <pytreebank.labeled_trees.LabeledTree at 0x7f481bf3ae48>,\n",
              " <pytreebank.labeled_trees.LabeledTree at 0x7f481bf3fdd8>,\n",
              " <pytreebank.labeled_trees.LabeledTree at 0x7f481bf42a58>,\n",
              " <pytreebank.labeled_trees.LabeledTree at 0x7f481bf42c50>,\n",
              " <pytreebank.labeled_trees.LabeledTree at 0x7f481bf48b00>,\n",
              " <pytreebank.labeled_trees.LabeledTree at 0x7f481bf4e7b8>,\n",
              " <pytreebank.labeled_trees.LabeledTree at 0x7f481bf4efd0>,\n",
              " <pytreebank.labeled_trees.LabeledTree at 0x7f481bf54f98>,\n",
              " <pytreebank.labeled_trees.LabeledTree at 0x7f481bf5e550>,\n",
              " <pytreebank.labeled_trees.LabeledTree at 0x7f481bf5ea20>,\n",
              " <pytreebank.labeled_trees.LabeledTree at 0x7f481bf650f0>,\n",
              " <pytreebank.labeled_trees.LabeledTree at 0x7f481bf65e10>,\n",
              " <pytreebank.labeled_trees.LabeledTree at 0x7f481bf66cf8>,\n",
              " <pytreebank.labeled_trees.LabeledTree at 0x7f481bf6d668>,\n",
              " <pytreebank.labeled_trees.LabeledTree at 0x7f481bf6de48>,\n",
              " <pytreebank.labeled_trees.LabeledTree at 0x7f481bef20f0>,\n",
              " <pytreebank.labeled_trees.LabeledTree at 0x7f481bef2b00>,\n",
              " <pytreebank.labeled_trees.LabeledTree at 0x7f481bef7470>,\n",
              " <pytreebank.labeled_trees.LabeledTree at 0x7f481bef7978>,\n",
              " <pytreebank.labeled_trees.LabeledTree at 0x7f481befd278>,\n",
              " <pytreebank.labeled_trees.LabeledTree at 0x7f481bf01710>,\n",
              " <pytreebank.labeled_trees.LabeledTree at 0x7f481bf06c50>,\n",
              " <pytreebank.labeled_trees.LabeledTree at 0x7f481bf10160>,\n",
              " <pytreebank.labeled_trees.LabeledTree at 0x7f481bf107b8>,\n",
              " <pytreebank.labeled_trees.LabeledTree at 0x7f481bf15668>,\n",
              " <pytreebank.labeled_trees.LabeledTree at 0x7f481bf1b198>,\n",
              " <pytreebank.labeled_trees.LabeledTree at 0x7f481bf1e128>,\n",
              " <pytreebank.labeled_trees.LabeledTree at 0x7f481bf235f8>,\n",
              " <pytreebank.labeled_trees.LabeledTree at 0x7f481bf23eb8>,\n",
              " <pytreebank.labeled_trees.LabeledTree at 0x7f481bf27748>,\n",
              " <pytreebank.labeled_trees.LabeledTree at 0x7f481bf2e128>,\n",
              " <pytreebank.labeled_trees.LabeledTree at 0x7f481bf2e9b0>,\n",
              " <pytreebank.labeled_trees.LabeledTree at 0x7f481beb2860>,\n",
              " <pytreebank.labeled_trees.LabeledTree at 0x7f481beb7630>,\n",
              " <pytreebank.labeled_trees.LabeledTree at 0x7f481beb7ac8>,\n",
              " <pytreebank.labeled_trees.LabeledTree at 0x7f481bebca58>,\n",
              " <pytreebank.labeled_trees.LabeledTree at 0x7f481bebcbe0>,\n",
              " <pytreebank.labeled_trees.LabeledTree at 0x7f481bec1e10>,\n",
              " <pytreebank.labeled_trees.LabeledTree at 0x7f481becc7b8>,\n",
              " <pytreebank.labeled_trees.LabeledTree at 0x7f481bed1278>,\n",
              " <pytreebank.labeled_trees.LabeledTree at 0x7f481bed1b38>,\n",
              " <pytreebank.labeled_trees.LabeledTree at 0x7f481bed5828>,\n",
              " <pytreebank.labeled_trees.LabeledTree at 0x7f481bedb978>,\n",
              " <pytreebank.labeled_trees.LabeledTree at 0x7f481bedf978>,\n",
              " <pytreebank.labeled_trees.LabeledTree at 0x7f481bee3128>,\n",
              " <pytreebank.labeled_trees.LabeledTree at 0x7f481bee3ac8>,\n",
              " <pytreebank.labeled_trees.LabeledTree at 0x7f481bee8710>,\n",
              " <pytreebank.labeled_trees.LabeledTree at 0x7f481bee8f98>,\n",
              " <pytreebank.labeled_trees.LabeledTree at 0x7f481beee710>,\n",
              " <pytreebank.labeled_trees.LabeledTree at 0x7f481beeeba8>,\n",
              " <pytreebank.labeled_trees.LabeledTree at 0x7f481beeef60>,\n",
              " <pytreebank.labeled_trees.LabeledTree at 0x7f481be72dd8>,\n",
              " <pytreebank.labeled_trees.LabeledTree at 0x7f481be79cf8>,\n",
              " <pytreebank.labeled_trees.LabeledTree at 0x7f481be7d390>,\n",
              " <pytreebank.labeled_trees.LabeledTree at 0x7f481be824e0>,\n",
              " <pytreebank.labeled_trees.LabeledTree at 0x7f481be87cf8>,\n",
              " <pytreebank.labeled_trees.LabeledTree at 0x7f481be8b7f0>,\n",
              " <pytreebank.labeled_trees.LabeledTree at 0x7f481be91588>,\n",
              " <pytreebank.labeled_trees.LabeledTree at 0x7f481be96048>,\n",
              " <pytreebank.labeled_trees.LabeledTree at 0x7f481be96748>,\n",
              " <pytreebank.labeled_trees.LabeledTree at 0x7f481be96d68>,\n",
              " <pytreebank.labeled_trees.LabeledTree at 0x7f481be9b780>,\n",
              " <pytreebank.labeled_trees.LabeledTree at 0x7f481bea0400>,\n",
              " <pytreebank.labeled_trees.LabeledTree at 0x7f481bea6048>,\n",
              " <pytreebank.labeled_trees.LabeledTree at 0x7f481bea6c88>,\n",
              " <pytreebank.labeled_trees.LabeledTree at 0x7f481beac048>,\n",
              " <pytreebank.labeled_trees.LabeledTree at 0x7f481beac278>,\n",
              " <pytreebank.labeled_trees.LabeledTree at 0x7f481beaccc0>,\n",
              " <pytreebank.labeled_trees.LabeledTree at 0x7f481be32400>,\n",
              " <pytreebank.labeled_trees.LabeledTree at 0x7f481be362e8>,\n",
              " <pytreebank.labeled_trees.LabeledTree at 0x7f481be366d8>,\n",
              " <pytreebank.labeled_trees.LabeledTree at 0x7f481be3c208>,\n",
              " <pytreebank.labeled_trees.LabeledTree at 0x7f481be3cc88>,\n",
              " <pytreebank.labeled_trees.LabeledTree at 0x7f481be3f198>,\n",
              " <pytreebank.labeled_trees.LabeledTree at 0x7f481be44358>,\n",
              " <pytreebank.labeled_trees.LabeledTree at 0x7f481be49780>,\n",
              " <pytreebank.labeled_trees.LabeledTree at 0x7f481be4d4e0>,\n",
              " <pytreebank.labeled_trees.LabeledTree at 0x7f481be4da90>,\n",
              " <pytreebank.labeled_trees.LabeledTree at 0x7f481be520b8>,\n",
              " <pytreebank.labeled_trees.LabeledTree at 0x7f481be525c0>,\n",
              " <pytreebank.labeled_trees.LabeledTree at 0x7f481be52e10>,\n",
              " <pytreebank.labeled_trees.LabeledTree at 0x7f481be582e8>,\n",
              " <pytreebank.labeled_trees.LabeledTree at 0x7f481be58b70>,\n",
              " <pytreebank.labeled_trees.LabeledTree at 0x7f481be5d390>,\n",
              " <pytreebank.labeled_trees.LabeledTree at 0x7f481be5d5f8>,\n",
              " <pytreebank.labeled_trees.LabeledTree at 0x7f481be621d0>,\n",
              " <pytreebank.labeled_trees.LabeledTree at 0x7f481be66438>,\n",
              " <pytreebank.labeled_trees.LabeledTree at 0x7f481be6b978>,\n",
              " <pytreebank.labeled_trees.LabeledTree at 0x7f481bdf10b8>,\n",
              " <pytreebank.labeled_trees.LabeledTree at 0x7f481bdf1c88>,\n",
              " <pytreebank.labeled_trees.LabeledTree at 0x7f481bdf2c18>,\n",
              " <pytreebank.labeled_trees.LabeledTree at 0x7f481bdfbf60>,\n",
              " <pytreebank.labeled_trees.LabeledTree at 0x7f481be00f98>,\n",
              " <pytreebank.labeled_trees.LabeledTree at 0x7f481be05d68>,\n",
              " <pytreebank.labeled_trees.LabeledTree at 0x7f481be105c0>,\n",
              " <pytreebank.labeled_trees.LabeledTree at 0x7f481be15400>,\n",
              " <pytreebank.labeled_trees.LabeledTree at 0x7f481be19278>,\n",
              " <pytreebank.labeled_trees.LabeledTree at 0x7f481be1d438>,\n",
              " <pytreebank.labeled_trees.LabeledTree at 0x7f481be237f0>,\n",
              " <pytreebank.labeled_trees.LabeledTree at 0x7f481be23da0>,\n",
              " <pytreebank.labeled_trees.LabeledTree at 0x7f481be2d710>,\n",
              " <pytreebank.labeled_trees.LabeledTree at 0x7f481be2de48>,\n",
              " <pytreebank.labeled_trees.LabeledTree at 0x7f481bdb1208>,\n",
              " <pytreebank.labeled_trees.LabeledTree at 0x7f481bdb1a58>,\n",
              " <pytreebank.labeled_trees.LabeledTree at 0x7f481bdb1f98>,\n",
              " <pytreebank.labeled_trees.LabeledTree at 0x7f481bdb7898>,\n",
              " <pytreebank.labeled_trees.LabeledTree at 0x7f481bdbd128>,\n",
              " <pytreebank.labeled_trees.LabeledTree at 0x7f481bdbd7f0>,\n",
              " <pytreebank.labeled_trees.LabeledTree at 0x7f481bdc3898>,\n",
              " <pytreebank.labeled_trees.LabeledTree at 0x7f481bdc7780>,\n",
              " <pytreebank.labeled_trees.LabeledTree at 0x7f481bdcd3c8>,\n",
              " <pytreebank.labeled_trees.LabeledTree at 0x7f481bdcdc88>,\n",
              " <pytreebank.labeled_trees.LabeledTree at 0x7f481bdd24e0>,\n",
              " <pytreebank.labeled_trees.LabeledTree at 0x7f481bdd8198>,\n",
              " <pytreebank.labeled_trees.LabeledTree at 0x7f481bddc940>,\n",
              " <pytreebank.labeled_trees.LabeledTree at 0x7f481bddceb8>,\n",
              " <pytreebank.labeled_trees.LabeledTree at 0x7f481bde1978>,\n",
              " <pytreebank.labeled_trees.LabeledTree at 0x7f481bde1f60>,\n",
              " <pytreebank.labeled_trees.LabeledTree at 0x7f481bde62e8>,\n",
              " <pytreebank.labeled_trees.LabeledTree at 0x7f481bdeb3c8>,\n",
              " <pytreebank.labeled_trees.LabeledTree at 0x7f481bdeb7f0>,\n",
              " <pytreebank.labeled_trees.LabeledTree at 0x7f481bdebc88>,\n",
              " <pytreebank.labeled_trees.LabeledTree at 0x7f481bd715c0>,\n",
              " <pytreebank.labeled_trees.LabeledTree at 0x7f481bd77320>,\n",
              " <pytreebank.labeled_trees.LabeledTree at 0x7f481bd77550>,\n",
              " <pytreebank.labeled_trees.LabeledTree at 0x7f481bd77ef0>,\n",
              " <pytreebank.labeled_trees.LabeledTree at 0x7f481bd7a6d8>,\n",
              " <pytreebank.labeled_trees.LabeledTree at 0x7f481bd7ad68>,\n",
              " <pytreebank.labeled_trees.LabeledTree at 0x7f481bd7f5c0>,\n",
              " <pytreebank.labeled_trees.LabeledTree at 0x7f481bd845c0>,\n",
              " <pytreebank.labeled_trees.LabeledTree at 0x7f481bd89048>,\n",
              " <pytreebank.labeled_trees.LabeledTree at 0x7f481bd8e390>,\n",
              " <pytreebank.labeled_trees.LabeledTree at 0x7f481bd93a20>,\n",
              " <pytreebank.labeled_trees.LabeledTree at 0x7f481bd93da0>,\n",
              " <pytreebank.labeled_trees.LabeledTree at 0x7f481bd99b38>,\n",
              " <pytreebank.labeled_trees.LabeledTree at 0x7f481bd9df28>,\n",
              " <pytreebank.labeled_trees.LabeledTree at 0x7f481bda8208>,\n",
              " <pytreebank.labeled_trees.LabeledTree at 0x7f481bdad080>,\n",
              " <pytreebank.labeled_trees.LabeledTree at 0x7f481bdadfd0>,\n",
              " <pytreebank.labeled_trees.LabeledTree at 0x7f481bd372b0>,\n",
              " <pytreebank.labeled_trees.LabeledTree at 0x7f481bd37908>,\n",
              " <pytreebank.labeled_trees.LabeledTree at 0x7f481bd3c5c0>,\n",
              " <pytreebank.labeled_trees.LabeledTree at 0x7f481bd41a20>,\n",
              " <pytreebank.labeled_trees.LabeledTree at 0x7f481bd458d0>,\n",
              " <pytreebank.labeled_trees.LabeledTree at 0x7f481bd4a5c0>,\n",
              " <pytreebank.labeled_trees.LabeledTree at 0x7f481bd51080>,\n",
              " <pytreebank.labeled_trees.LabeledTree at 0x7f481bd57208>,\n",
              " <pytreebank.labeled_trees.LabeledTree at 0x7f481bd57748>,\n",
              " <pytreebank.labeled_trees.LabeledTree at 0x7f481bd5b5c0>,\n",
              " <pytreebank.labeled_trees.LabeledTree at 0x7f481bd5bc88>,\n",
              " <pytreebank.labeled_trees.LabeledTree at 0x7f481bd5ec88>,\n",
              " <pytreebank.labeled_trees.LabeledTree at 0x7f481bd63fd0>,\n",
              " <pytreebank.labeled_trees.LabeledTree at 0x7f481bd69ba8>,\n",
              " <pytreebank.labeled_trees.LabeledTree at 0x7f481bd6eac8>,\n",
              " <pytreebank.labeled_trees.LabeledTree at 0x7f481bd6ee80>,\n",
              " <pytreebank.labeled_trees.LabeledTree at 0x7f481bcf2b00>,\n",
              " <pytreebank.labeled_trees.LabeledTree at 0x7f481bcf8780>,\n",
              " <pytreebank.labeled_trees.LabeledTree at 0x7f481bd02390>,\n",
              " <pytreebank.labeled_trees.LabeledTree at 0x7f481bd029b0>,\n",
              " <pytreebank.labeled_trees.LabeledTree at 0x7f481bd07b00>,\n",
              " <pytreebank.labeled_trees.LabeledTree at 0x7f481bd11128>,\n",
              " <pytreebank.labeled_trees.LabeledTree at 0x7f481bd11b00>,\n",
              " <pytreebank.labeled_trees.LabeledTree at 0x7f481bd17400>,\n",
              " <pytreebank.labeled_trees.LabeledTree at 0x7f481bd1c780>,\n",
              " <pytreebank.labeled_trees.LabeledTree at 0x7f481bd1ca20>,\n",
              " <pytreebank.labeled_trees.LabeledTree at 0x7f481bd21160>,\n",
              " <pytreebank.labeled_trees.LabeledTree at 0x7f481bd21588>,\n",
              " <pytreebank.labeled_trees.LabeledTree at 0x7f481bd26cf8>,\n",
              " <pytreebank.labeled_trees.LabeledTree at 0x7f481bcb2908>,\n",
              " <pytreebank.labeled_trees.LabeledTree at 0x7f481bcb6278>,\n",
              " <pytreebank.labeled_trees.LabeledTree at 0x7f481bcb69e8>,\n",
              " <pytreebank.labeled_trees.LabeledTree at 0x7f481bcbb240>,\n",
              " <pytreebank.labeled_trees.LabeledTree at 0x7f481bcbb7b8>,\n",
              " <pytreebank.labeled_trees.LabeledTree at 0x7f481bcbbb00>,\n",
              " <pytreebank.labeled_trees.LabeledTree at 0x7f481bcbbe10>,\n",
              " <pytreebank.labeled_trees.LabeledTree at 0x7f481bcc0ac8>,\n",
              " <pytreebank.labeled_trees.LabeledTree at 0x7f481bcc5588>,\n",
              " <pytreebank.labeled_trees.LabeledTree at 0x7f481bcca828>,\n",
              " <pytreebank.labeled_trees.LabeledTree at 0x7f481bccf6d8>,\n",
              " <pytreebank.labeled_trees.LabeledTree at 0x7f481bcd34a8>,\n",
              " <pytreebank.labeled_trees.LabeledTree at 0x7f481bcd87b8>,\n",
              " <pytreebank.labeled_trees.LabeledTree at 0x7f481bcd8fd0>,\n",
              " <pytreebank.labeled_trees.LabeledTree at 0x7f481bcdc9e8>,\n",
              " <pytreebank.labeled_trees.LabeledTree at 0x7f481bcdcd30>,\n",
              " <pytreebank.labeled_trees.LabeledTree at 0x7f481bce2b38>,\n",
              " <pytreebank.labeled_trees.LabeledTree at 0x7f481bce74e0>,\n",
              " <pytreebank.labeled_trees.LabeledTree at 0x7f481bced320>,\n",
              " <pytreebank.labeled_trees.LabeledTree at 0x7f481bcef048>,\n",
              " <pytreebank.labeled_trees.LabeledTree at 0x7f481bc77080>,\n",
              " <pytreebank.labeled_trees.LabeledTree at 0x7f481bc776a0>,\n",
              " <pytreebank.labeled_trees.LabeledTree at 0x7f481bc7e940>,\n",
              " <pytreebank.labeled_trees.LabeledTree at 0x7f481bc812e8>,\n",
              " <pytreebank.labeled_trees.LabeledTree at 0x7f481bc816a0>,\n",
              " <pytreebank.labeled_trees.LabeledTree at 0x7f481bc86780>,\n",
              " <pytreebank.labeled_trees.LabeledTree at 0x7f481bc86ef0>,\n",
              " <pytreebank.labeled_trees.LabeledTree at 0x7f481bc8db38>,\n",
              " <pytreebank.labeled_trees.LabeledTree at 0x7f481bc91710>,\n",
              " <pytreebank.labeled_trees.LabeledTree at 0x7f481bc967b8>,\n",
              " <pytreebank.labeled_trees.LabeledTree at 0x7f481bc96b38>,\n",
              " <pytreebank.labeled_trees.LabeledTree at 0x7f481bc9ba20>,\n",
              " <pytreebank.labeled_trees.LabeledTree at 0x7f481bca18d0>,\n",
              " <pytreebank.labeled_trees.LabeledTree at 0x7f481bca3a20>,\n",
              " <pytreebank.labeled_trees.LabeledTree at 0x7f481bca85f8>,\n",
              " <pytreebank.labeled_trees.LabeledTree at 0x7f481bca8ac8>,\n",
              " <pytreebank.labeled_trees.LabeledTree at 0x7f481bcae320>,\n",
              " <pytreebank.labeled_trees.LabeledTree at 0x7f481bc356a0>,\n",
              " <pytreebank.labeled_trees.LabeledTree at 0x7f481bc37860>,\n",
              " <pytreebank.labeled_trees.LabeledTree at 0x7f481bc3cac8>,\n",
              " <pytreebank.labeled_trees.LabeledTree at 0x7f481bc41588>,\n",
              " <pytreebank.labeled_trees.LabeledTree at 0x7f481bc41b70>,\n",
              " <pytreebank.labeled_trees.LabeledTree at 0x7f481bc47a20>,\n",
              " <pytreebank.labeled_trees.LabeledTree at 0x7f481bc47d30>,\n",
              " <pytreebank.labeled_trees.LabeledTree at 0x7f481bc4c908>,\n",
              " <pytreebank.labeled_trees.LabeledTree at 0x7f481bc514e0>,\n",
              " <pytreebank.labeled_trees.LabeledTree at 0x7f481bc51e48>,\n",
              " <pytreebank.labeled_trees.LabeledTree at 0x7f481bc579e8>,\n",
              " <pytreebank.labeled_trees.LabeledTree at 0x7f481bc5b5f8>,\n",
              " <pytreebank.labeled_trees.LabeledTree at 0x7f481bc61240>,\n",
              " <pytreebank.labeled_trees.LabeledTree at 0x7f481bc61780>,\n",
              " <pytreebank.labeled_trees.LabeledTree at 0x7f481bc61ef0>,\n",
              " <pytreebank.labeled_trees.LabeledTree at 0x7f481bc6cb70>,\n",
              " <pytreebank.labeled_trees.LabeledTree at 0x7f481bbf0320>,\n",
              " <pytreebank.labeled_trees.LabeledTree at 0x7f481bbf0748>,\n",
              " <pytreebank.labeled_trees.LabeledTree at 0x7f481bbf5438>,\n",
              " <pytreebank.labeled_trees.LabeledTree at 0x7f481bbfb9b0>,\n",
              " <pytreebank.labeled_trees.LabeledTree at 0x7f481bbffa58>,\n",
              " <pytreebank.labeled_trees.LabeledTree at 0x7f481bc05160>,\n",
              " <pytreebank.labeled_trees.LabeledTree at 0x7f481bc05b38>,\n",
              " <pytreebank.labeled_trees.LabeledTree at 0x7f481bc05fd0>,\n",
              " <pytreebank.labeled_trees.LabeledTree at 0x7f481bc08898>,\n",
              " <pytreebank.labeled_trees.LabeledTree at 0x7f481bc0f080>,\n",
              " <pytreebank.labeled_trees.LabeledTree at 0x7f481bc0fe10>,\n",
              " <pytreebank.labeled_trees.LabeledTree at 0x7f481bc14dd8>,\n",
              " <pytreebank.labeled_trees.LabeledTree at 0x7f481bc19208>,\n",
              " <pytreebank.labeled_trees.LabeledTree at 0x7f481bc196a0>,\n",
              " <pytreebank.labeled_trees.LabeledTree at 0x7f481bc1ef28>,\n",
              " <pytreebank.labeled_trees.LabeledTree at 0x7f481bc237f0>,\n",
              " <pytreebank.labeled_trees.LabeledTree at 0x7f481bc29390>,\n",
              " <pytreebank.labeled_trees.LabeledTree at 0x7f481bc29630>,\n",
              " <pytreebank.labeled_trees.LabeledTree at 0x7f481bc29908>,\n",
              " <pytreebank.labeled_trees.LabeledTree at 0x7f481bc29c50>,\n",
              " <pytreebank.labeled_trees.LabeledTree at 0x7f481bc29d30>,\n",
              " <pytreebank.labeled_trees.LabeledTree at 0x7f481bc2dcf8>,\n",
              " <pytreebank.labeled_trees.LabeledTree at 0x7f481bbb16d8>,\n",
              " <pytreebank.labeled_trees.LabeledTree at 0x7f481bbb7198>,\n",
              " <pytreebank.labeled_trees.LabeledTree at 0x7f481bbb7ba8>,\n",
              " <pytreebank.labeled_trees.LabeledTree at 0x7f481bbbc668>,\n",
              " <pytreebank.labeled_trees.LabeledTree at 0x7f481bbc2438>,\n",
              " <pytreebank.labeled_trees.LabeledTree at 0x7f481bbc64a8>,\n",
              " <pytreebank.labeled_trees.LabeledTree at 0x7f481bbcb1d0>,\n",
              " <pytreebank.labeled_trees.LabeledTree at 0x7f481bbcb438>,\n",
              " <pytreebank.labeled_trees.LabeledTree at 0x7f481bbd1160>,\n",
              " <pytreebank.labeled_trees.LabeledTree at 0x7f481bbd1da0>,\n",
              " <pytreebank.labeled_trees.LabeledTree at 0x7f481bbd67b8>,\n",
              " <pytreebank.labeled_trees.LabeledTree at 0x7f481bbdb3c8>,\n",
              " <pytreebank.labeled_trees.LabeledTree at 0x7f481bbdf0b8>,\n",
              " <pytreebank.labeled_trees.LabeledTree at 0x7f481bbdf6d8>,\n",
              " <pytreebank.labeled_trees.LabeledTree at 0x7f481bbdfba8>,\n",
              " <pytreebank.labeled_trees.LabeledTree at 0x7f481bbe4978>,\n",
              " <pytreebank.labeled_trees.LabeledTree at 0x7f481bbeaac8>,\n",
              " <pytreebank.labeled_trees.LabeledTree at 0x7f481bbe8a58>,\n",
              " <pytreebank.labeled_trees.LabeledTree at 0x7f481bb73828>,\n",
              " <pytreebank.labeled_trees.LabeledTree at 0x7f481bb73c88>,\n",
              " <pytreebank.labeled_trees.LabeledTree at 0x7f481bb78748>,\n",
              " <pytreebank.labeled_trees.LabeledTree at 0x7f481bb7fa20>,\n",
              " <pytreebank.labeled_trees.LabeledTree at 0x7f481bb7c208>,\n",
              " <pytreebank.labeled_trees.LabeledTree at 0x7f481bb85080>,\n",
              " <pytreebank.labeled_trees.LabeledTree at 0x7f481bb85908>,\n",
              " <pytreebank.labeled_trees.LabeledTree at 0x7f481bb8d0b8>,\n",
              " <pytreebank.labeled_trees.LabeledTree at 0x7f481bb8dc88>,\n",
              " <pytreebank.labeled_trees.LabeledTree at 0x7f481bb94128>,\n",
              " <pytreebank.labeled_trees.LabeledTree at 0x7f481bb94940>,\n",
              " <pytreebank.labeled_trees.LabeledTree at 0x7f481bb977b8>,\n",
              " <pytreebank.labeled_trees.LabeledTree at 0x7f481bb9d940>,\n",
              " <pytreebank.labeled_trees.LabeledTree at 0x7f481bba24a8>,\n",
              " <pytreebank.labeled_trees.LabeledTree at 0x7f481bba2d68>,\n",
              " <pytreebank.labeled_trees.LabeledTree at 0x7f481bba9550>,\n",
              " <pytreebank.labeled_trees.LabeledTree at 0x7f481bba9940>,\n",
              " <pytreebank.labeled_trees.LabeledTree at 0x7f481bbac2e8>,\n",
              " <pytreebank.labeled_trees.LabeledTree at 0x7f481bb32390>,\n",
              " <pytreebank.labeled_trees.LabeledTree at 0x7f481bb32860>,\n",
              " <pytreebank.labeled_trees.LabeledTree at 0x7f481bb36160>,\n",
              " <pytreebank.labeled_trees.LabeledTree at 0x7f481bb3c048>,\n",
              " <pytreebank.labeled_trees.LabeledTree at 0x7f48584b9198>,\n",
              " <pytreebank.labeled_trees.LabeledTree at 0x7f481d6aa198>,\n",
              " <pytreebank.labeled_trees.LabeledTree at 0x7f481d0921d0>,\n",
              " <pytreebank.labeled_trees.LabeledTree at 0x7f481d54dbe0>,\n",
              " <pytreebank.labeled_trees.LabeledTree at 0x7f481d51ccc0>,\n",
              " <pytreebank.labeled_trees.LabeledTree at 0x7f481d089dd8>,\n",
              " <pytreebank.labeled_trees.LabeledTree at 0x7f481d5383c8>,\n",
              " <pytreebank.labeled_trees.LabeledTree at 0x7f481d570630>,\n",
              " <pytreebank.labeled_trees.LabeledTree at 0x7f481d570a58>,\n",
              " <pytreebank.labeled_trees.LabeledTree at 0x7f481d570dd8>,\n",
              " <pytreebank.labeled_trees.LabeledTree at 0x7f481d57a1d0>,\n",
              " <pytreebank.labeled_trees.LabeledTree at 0x7f481d074e80>,\n",
              " <pytreebank.labeled_trees.LabeledTree at 0x7f481d099c18>,\n",
              " <pytreebank.labeled_trees.LabeledTree at 0x7f481d57dba8>,\n",
              " <pytreebank.labeled_trees.LabeledTree at 0x7f481d543ef0>,\n",
              " <pytreebank.labeled_trees.LabeledTree at 0x7f481d4fcc18>,\n",
              " <pytreebank.labeled_trees.LabeledTree at 0x7f48420032b0>,\n",
              " <pytreebank.labeled_trees.LabeledTree at 0x7f481d072128>,\n",
              " <pytreebank.labeled_trees.LabeledTree at 0x7f481d0885f8>,\n",
              " <pytreebank.labeled_trees.LabeledTree at 0x7f481d088c50>,\n",
              " <pytreebank.labeled_trees.LabeledTree at 0x7f481d088cf8>,\n",
              " <pytreebank.labeled_trees.LabeledTree at 0x7f481d56f5f8>,\n",
              " <pytreebank.labeled_trees.LabeledTree at 0x7f481d56fa90>,\n",
              " <pytreebank.labeled_trees.LabeledTree at 0x7f481d56fdd8>,\n",
              " <pytreebank.labeled_trees.LabeledTree at 0x7f481d576518>,\n",
              " <pytreebank.labeled_trees.LabeledTree at 0x7f481d564160>,\n",
              " <pytreebank.labeled_trees.LabeledTree at 0x7f481d5647b8>,\n",
              " <pytreebank.labeled_trees.LabeledTree at 0x7f481d564c50>,\n",
              " <pytreebank.labeled_trees.LabeledTree at 0x7f481d573dd8>,\n",
              " <pytreebank.labeled_trees.LabeledTree at 0x7f481d571358>,\n",
              " <pytreebank.labeled_trees.LabeledTree at 0x7f481d569710>,\n",
              " <pytreebank.labeled_trees.LabeledTree at 0x7f481d569d30>,\n",
              " <pytreebank.labeled_trees.LabeledTree at 0x7f481d53d550>,\n",
              " <pytreebank.labeled_trees.LabeledTree at 0x7f481d53db38>,\n",
              " <pytreebank.labeled_trees.LabeledTree at 0x7f481bb41d30>,\n",
              " <pytreebank.labeled_trees.LabeledTree at 0x7f481bb47160>,\n",
              " <pytreebank.labeled_trees.LabeledTree at 0x7f481bb47898>,\n",
              " <pytreebank.labeled_trees.LabeledTree at 0x7f481bb4cf28>,\n",
              " <pytreebank.labeled_trees.LabeledTree at 0x7f481bb51860>,\n",
              " <pytreebank.labeled_trees.LabeledTree at 0x7f481bb56b00>,\n",
              " <pytreebank.labeled_trees.LabeledTree at 0x7f481bb5ae48>,\n",
              " <pytreebank.labeled_trees.LabeledTree at 0x7f481bb60898>,\n",
              " <pytreebank.labeled_trees.LabeledTree at 0x7f481bb667f0>,\n",
              " <pytreebank.labeled_trees.LabeledTree at 0x7f481bb6b588>,\n",
              " <pytreebank.labeled_trees.LabeledTree at 0x7f481baf02b0>,\n",
              " <pytreebank.labeled_trees.LabeledTree at 0x7f481baf0d30>,\n",
              " <pytreebank.labeled_trees.LabeledTree at 0x7f481baf54a8>,\n",
              " <pytreebank.labeled_trees.LabeledTree at 0x7f481baf5a90>,\n",
              " <pytreebank.labeled_trees.LabeledTree at 0x7f481bafb160>,\n",
              " <pytreebank.labeled_trees.LabeledTree at 0x7f481baff278>,\n",
              " <pytreebank.labeled_trees.LabeledTree at 0x7f481bb030f0>,\n",
              " <pytreebank.labeled_trees.LabeledTree at 0x7f481bb03c18>,\n",
              " <pytreebank.labeled_trees.LabeledTree at 0x7f481bb0bb00>,\n",
              " <pytreebank.labeled_trees.LabeledTree at 0x7f481bb11c18>,\n",
              " <pytreebank.labeled_trees.LabeledTree at 0x7f481bb18668>,\n",
              " <pytreebank.labeled_trees.LabeledTree at 0x7f481bb1d048>,\n",
              " <pytreebank.labeled_trees.LabeledTree at 0x7f481bb1da90>,\n",
              " <pytreebank.labeled_trees.LabeledTree at 0x7f481bb22128>,\n",
              " <pytreebank.labeled_trees.LabeledTree at 0x7f481bb22ac8>,\n",
              " <pytreebank.labeled_trees.LabeledTree at 0x7f481bb27dd8>,\n",
              " <pytreebank.labeled_trees.LabeledTree at 0x7f481bb2c278>,\n",
              " <pytreebank.labeled_trees.LabeledTree at 0x7f481bb2cf60>,\n",
              " <pytreebank.labeled_trees.LabeledTree at 0x7f481bab1438>,\n",
              " <pytreebank.labeled_trees.LabeledTree at 0x7f481bab7198>,\n",
              " <pytreebank.labeled_trees.LabeledTree at 0x7f481babd0f0>,\n",
              " <pytreebank.labeled_trees.LabeledTree at 0x7f481babdac8>,\n",
              " <pytreebank.labeled_trees.LabeledTree at 0x7f481bac10b8>,\n",
              " <pytreebank.labeled_trees.LabeledTree at 0x7f481bac1fd0>,\n",
              " <pytreebank.labeled_trees.LabeledTree at 0x7f481bac5e10>,\n",
              " <pytreebank.labeled_trees.LabeledTree at 0x7f481bacf198>,\n",
              " <pytreebank.labeled_trees.LabeledTree at 0x7f481bacfdd8>,\n",
              " <pytreebank.labeled_trees.LabeledTree at 0x7f481bad77f0>,\n",
              " <pytreebank.labeled_trees.LabeledTree at 0x7f481bad7ef0>,\n",
              " <pytreebank.labeled_trees.LabeledTree at 0x7f481baddb38>,\n",
              " <pytreebank.labeled_trees.LabeledTree at 0x7f481bae1240>,\n",
              " <pytreebank.labeled_trees.LabeledTree at 0x7f481bae1fd0>,\n",
              " <pytreebank.labeled_trees.LabeledTree at 0x7f481bae6860>,\n",
              " <pytreebank.labeled_trees.LabeledTree at 0x7f481baeb5c0>,\n",
              " <pytreebank.labeled_trees.LabeledTree at 0x7f481baebfd0>,\n",
              " <pytreebank.labeled_trees.LabeledTree at 0x7f481ba71278>,\n",
              " <pytreebank.labeled_trees.LabeledTree at 0x7f481ba71da0>,\n",
              " <pytreebank.labeled_trees.LabeledTree at 0x7f481ba78710>,\n",
              " <pytreebank.labeled_trees.LabeledTree at 0x7f481ba7c7b8>,\n",
              " <pytreebank.labeled_trees.LabeledTree at 0x7f481ba7f898>,\n",
              " <pytreebank.labeled_trees.LabeledTree at 0x7f481ba7fdd8>,\n",
              " <pytreebank.labeled_trees.LabeledTree at 0x7f481ba84240>,\n",
              " <pytreebank.labeled_trees.LabeledTree at 0x7f481ba84898>,\n",
              " <pytreebank.labeled_trees.LabeledTree at 0x7f481ba89160>,\n",
              " <pytreebank.labeled_trees.LabeledTree at 0x7f481ba89e48>,\n",
              " <pytreebank.labeled_trees.LabeledTree at 0x7f481ba8f630>,\n",
              " <pytreebank.labeled_trees.LabeledTree at 0x7f481ba98048>,\n",
              " <pytreebank.labeled_trees.LabeledTree at 0x7f481ba9c240>,\n",
              " <pytreebank.labeled_trees.LabeledTree at 0x7f481ba9ce10>,\n",
              " <pytreebank.labeled_trees.LabeledTree at 0x7f481baa7438>,\n",
              " <pytreebank.labeled_trees.LabeledTree at 0x7f481baa7f28>,\n",
              " <pytreebank.labeled_trees.LabeledTree at 0x7f481baac748>,\n",
              " <pytreebank.labeled_trees.LabeledTree at 0x7f481baace10>,\n",
              " <pytreebank.labeled_trees.LabeledTree at 0x7f481baae438>,\n",
              " <pytreebank.labeled_trees.LabeledTree at 0x7f481ba350b8>,\n",
              " <pytreebank.labeled_trees.LabeledTree at 0x7f481ba35fd0>,\n",
              " <pytreebank.labeled_trees.LabeledTree at 0x7f481ba3a358>,\n",
              " <pytreebank.labeled_trees.LabeledTree at 0x7f481ba3ac50>,\n",
              " <pytreebank.labeled_trees.LabeledTree at 0x7f481ba401d0>,\n",
              " <pytreebank.labeled_trees.LabeledTree at 0x7f481ba40438>,\n",
              " <pytreebank.labeled_trees.LabeledTree at 0x7f481ba40828>,\n",
              " <pytreebank.labeled_trees.LabeledTree at 0x7f481ba44da0>,\n",
              " <pytreebank.labeled_trees.LabeledTree at 0x7f481ba4c320>,\n",
              " <pytreebank.labeled_trees.LabeledTree at 0x7f481ba532e8>,\n",
              " <pytreebank.labeled_trees.LabeledTree at 0x7f481ba5e278>,\n",
              " <pytreebank.labeled_trees.LabeledTree at 0x7f481ba5e9b0>,\n",
              " <pytreebank.labeled_trees.LabeledTree at 0x7f481ba63198>,\n",
              " <pytreebank.labeled_trees.LabeledTree at 0x7f481ba631d0>,\n",
              " <pytreebank.labeled_trees.LabeledTree at 0x7f481ba6c390>,\n",
              " <pytreebank.labeled_trees.LabeledTree at 0x7f481ba6c710>,\n",
              " <pytreebank.labeled_trees.LabeledTree at 0x7f481b9f3438>,\n",
              " <pytreebank.labeled_trees.LabeledTree at 0x7f481b9f39e8>,\n",
              " <pytreebank.labeled_trees.LabeledTree at 0x7f481b9f7278>,\n",
              " <pytreebank.labeled_trees.LabeledTree at 0x7f481b9f7c50>,\n",
              " <pytreebank.labeled_trees.LabeledTree at 0x7f481b9fce48>,\n",
              " <pytreebank.labeled_trees.LabeledTree at 0x7f481ba01c88>,\n",
              " <pytreebank.labeled_trees.LabeledTree at 0x7f481ba07ac8>,\n",
              " <pytreebank.labeled_trees.LabeledTree at 0x7f481ba0c940>,\n",
              " <pytreebank.labeled_trees.LabeledTree at 0x7f481ba101d0>,\n",
              " <pytreebank.labeled_trees.LabeledTree at 0x7f481ba10668>,\n",
              " <pytreebank.labeled_trees.LabeledTree at 0x7f481ba15908>,\n",
              " <pytreebank.labeled_trees.LabeledTree at 0x7f481ba1b780>,\n",
              " <pytreebank.labeled_trees.LabeledTree at 0x7f481ba1f240>,\n",
              " <pytreebank.labeled_trees.LabeledTree at 0x7f481ba24588>,\n",
              " <pytreebank.labeled_trees.LabeledTree at 0x7f481ba24e48>,\n",
              " <pytreebank.labeled_trees.LabeledTree at 0x7f481ba28b70>,\n",
              " <pytreebank.labeled_trees.LabeledTree at 0x7f481ba2d320>,\n",
              " <pytreebank.labeled_trees.LabeledTree at 0x7f481b9b2518>,\n",
              " <pytreebank.labeled_trees.LabeledTree at 0x7f481b9b84e0>,\n",
              " <pytreebank.labeled_trees.LabeledTree at 0x7f481b9b8d30>,\n",
              " <pytreebank.labeled_trees.LabeledTree at 0x7f481b9beac8>,\n",
              " <pytreebank.labeled_trees.LabeledTree at 0x7f481b9c2ef0>,\n",
              " <pytreebank.labeled_trees.LabeledTree at 0x7f481b9c7ac8>,\n",
              " <pytreebank.labeled_trees.LabeledTree at 0x7f481b9cc860>,\n",
              " <pytreebank.labeled_trees.LabeledTree at 0x7f481b9d2860>,\n",
              " <pytreebank.labeled_trees.LabeledTree at 0x7f481b9d7c88>,\n",
              " <pytreebank.labeled_trees.LabeledTree at 0x7f481b9dc780>,\n",
              " <pytreebank.labeled_trees.LabeledTree at 0x7f481b9e03c8>,\n",
              " <pytreebank.labeled_trees.LabeledTree at 0x7f481b9e0c88>,\n",
              " <pytreebank.labeled_trees.LabeledTree at 0x7f481b9e5550>,\n",
              " <pytreebank.labeled_trees.LabeledTree at 0x7f481b9e5b38>,\n",
              " <pytreebank.labeled_trees.LabeledTree at 0x7f481b9e5eb8>,\n",
              " <pytreebank.labeled_trees.LabeledTree at 0x7f481b970860>,\n",
              " <pytreebank.labeled_trees.LabeledTree at 0x7f481b974cc0>,\n",
              " <pytreebank.labeled_trees.LabeledTree at 0x7f481b9780f0>,\n",
              " <pytreebank.labeled_trees.LabeledTree at 0x7f481b978da0>,\n",
              " <pytreebank.labeled_trees.LabeledTree at 0x7f481b97def0>,\n",
              " <pytreebank.labeled_trees.LabeledTree at 0x7f481b983630>,\n",
              " <pytreebank.labeled_trees.LabeledTree at 0x7f481b983dd8>,\n",
              " <pytreebank.labeled_trees.LabeledTree at 0x7f481b989cc0>,\n",
              " <pytreebank.labeled_trees.LabeledTree at 0x7f481b992518>,\n",
              " <pytreebank.labeled_trees.LabeledTree at 0x7f481b992dd8>,\n",
              " <pytreebank.labeled_trees.LabeledTree at 0x7f481b997dd8>,\n",
              " <pytreebank.labeled_trees.LabeledTree at 0x7f481b99dc18>,\n",
              " <pytreebank.labeled_trees.LabeledTree at 0x7f481b9a37f0>,\n",
              " <pytreebank.labeled_trees.LabeledTree at 0x7f481b9a6160>,\n",
              " <pytreebank.labeled_trees.LabeledTree at 0x7f481b9ab518>,\n",
              " <pytreebank.labeled_trees.LabeledTree at 0x7f481b9abeb8>,\n",
              " <pytreebank.labeled_trees.LabeledTree at 0x7f481b930438>,\n",
              " <pytreebank.labeled_trees.LabeledTree at 0x7f481b930b70>,\n",
              " <pytreebank.labeled_trees.LabeledTree at 0x7f481b9365c0>,\n",
              " <pytreebank.labeled_trees.LabeledTree at 0x7f481b93ae10>,\n",
              " <pytreebank.labeled_trees.LabeledTree at 0x7f481b93f198>,\n",
              " <pytreebank.labeled_trees.LabeledTree at 0x7f481b93ff60>,\n",
              " <pytreebank.labeled_trees.LabeledTree at 0x7f481b944f28>,\n",
              " <pytreebank.labeled_trees.LabeledTree at 0x7f481b9479b0>,\n",
              " <pytreebank.labeled_trees.LabeledTree at 0x7f481b94d2b0>,\n",
              " <pytreebank.labeled_trees.LabeledTree at 0x7f481b94dd68>,\n",
              " <pytreebank.labeled_trees.LabeledTree at 0x7f481b958320>,\n",
              " <pytreebank.labeled_trees.LabeledTree at 0x7f481b958a90>,\n",
              " <pytreebank.labeled_trees.LabeledTree at 0x7f481b958d68>,\n",
              " <pytreebank.labeled_trees.LabeledTree at 0x7f481b95d278>,\n",
              " <pytreebank.labeled_trees.LabeledTree at 0x7f481b961908>,\n",
              " <pytreebank.labeled_trees.LabeledTree at 0x7f481b961f28>,\n",
              " <pytreebank.labeled_trees.LabeledTree at 0x7f481b968a20>,\n",
              " <pytreebank.labeled_trees.LabeledTree at 0x7f481b8f0390>,\n",
              " <pytreebank.labeled_trees.LabeledTree at 0x7f481b8f06d8>,\n",
              " <pytreebank.labeled_trees.LabeledTree at 0x7f481b8f7320>,\n",
              " <pytreebank.labeled_trees.LabeledTree at 0x7f481b8f7710>,\n",
              " <pytreebank.labeled_trees.LabeledTree at 0x7f481b8fb278>,\n",
              " <pytreebank.labeled_trees.LabeledTree at 0x7f481b8fb780>,\n",
              " <pytreebank.labeled_trees.LabeledTree at 0x7f481b8fbf60>,\n",
              " <pytreebank.labeled_trees.LabeledTree at 0x7f481b8ff828>,\n",
              " <pytreebank.labeled_trees.LabeledTree at 0x7f481b9045c0>,\n",
              " <pytreebank.labeled_trees.LabeledTree at 0x7f481b90b748>,\n",
              " <pytreebank.labeled_trees.LabeledTree at 0x7f481b90bd68>,\n",
              " <pytreebank.labeled_trees.LabeledTree at 0x7f481b9121d0>,\n",
              " <pytreebank.labeled_trees.LabeledTree at 0x7f481b912e10>,\n",
              " <pytreebank.labeled_trees.LabeledTree at 0x7f481b91bc88>,\n",
              " <pytreebank.labeled_trees.LabeledTree at 0x7f481b921780>,\n",
              " <pytreebank.labeled_trees.LabeledTree at 0x7f481b925828>,\n",
              " <pytreebank.labeled_trees.LabeledTree at 0x7f481b925dd8>,\n",
              " <pytreebank.labeled_trees.LabeledTree at 0x7f481b929a90>,\n",
              " <pytreebank.labeled_trees.LabeledTree at 0x7f481b8b05c0>,\n",
              " <pytreebank.labeled_trees.LabeledTree at 0x7f481b8b0c50>,\n",
              " <pytreebank.labeled_trees.LabeledTree at 0x7f481b8b47f0>,\n",
              " <pytreebank.labeled_trees.LabeledTree at 0x7f481b8b8cf8>,\n",
              " <pytreebank.labeled_trees.LabeledTree at 0x7f481b8beb70>,\n",
              " <pytreebank.labeled_trees.LabeledTree at 0x7f481b8c2908>,\n",
              " <pytreebank.labeled_trees.LabeledTree at 0x7f481b8ca2e8>,\n",
              " <pytreebank.labeled_trees.LabeledTree at 0x7f481b8cada0>,\n",
              " <pytreebank.labeled_trees.LabeledTree at 0x7f481b8cfb00>,\n",
              " <pytreebank.labeled_trees.LabeledTree at 0x7f481b8cfe10>,\n",
              " <pytreebank.labeled_trees.LabeledTree at 0x7f481b8d45f8>,\n",
              " <pytreebank.labeled_trees.LabeledTree at 0x7f481b8d4978>,\n",
              " <pytreebank.labeled_trees.LabeledTree at 0x7f481b8d87f0>,\n",
              " <pytreebank.labeled_trees.LabeledTree at 0x7f481b8d8a90>,\n",
              " <pytreebank.labeled_trees.LabeledTree at 0x7f481b8ddc50>,\n",
              " <pytreebank.labeled_trees.LabeledTree at 0x7f481b8e70f0>,\n",
              " <pytreebank.labeled_trees.LabeledTree at 0x7f481b8e7c50>,\n",
              " <pytreebank.labeled_trees.LabeledTree at 0x7f481b8ecd30>,\n",
              " <pytreebank.labeled_trees.LabeledTree at 0x7f481b8712e8>,\n",
              " <pytreebank.labeled_trees.LabeledTree at 0x7f481b8713c8>,\n",
              " <pytreebank.labeled_trees.LabeledTree at 0x7f481b875908>,\n",
              " <pytreebank.labeled_trees.LabeledTree at 0x7f481b87bcf8>,\n",
              " <pytreebank.labeled_trees.LabeledTree at 0x7f481b880828>,\n",
              " <pytreebank.labeled_trees.LabeledTree at 0x7f481b884f60>,\n",
              " <pytreebank.labeled_trees.LabeledTree at 0x7f481b88d390>,\n",
              " <pytreebank.labeled_trees.LabeledTree at 0x7f481b88dc18>,\n",
              " <pytreebank.labeled_trees.LabeledTree at 0x7f481b898748>,\n",
              " <pytreebank.labeled_trees.LabeledTree at 0x7f481b898e48>,\n",
              " <pytreebank.labeled_trees.LabeledTree at 0x7f481b89c780>,\n",
              " <pytreebank.labeled_trees.LabeledTree at 0x7f481b89ceb8>,\n",
              " <pytreebank.labeled_trees.LabeledTree at 0x7f481b8a1a90>,\n",
              " <pytreebank.labeled_trees.LabeledTree at 0x7f481b8a6400>,\n",
              " <pytreebank.labeled_trees.LabeledTree at 0x7f481b8ac588>,\n",
              " <pytreebank.labeled_trees.LabeledTree at 0x7f481b8acf28>,\n",
              " <pytreebank.labeled_trees.LabeledTree at 0x7f481b831f28>,\n",
              " <pytreebank.labeled_trees.LabeledTree at 0x7f481b836be0>,\n",
              " <pytreebank.labeled_trees.LabeledTree at 0x7f481b83a160>,\n",
              " <pytreebank.labeled_trees.LabeledTree at 0x7f481b83acc0>,\n",
              " <pytreebank.labeled_trees.LabeledTree at 0x7f481b83f7f0>,\n",
              " <pytreebank.labeled_trees.LabeledTree at 0x7f481b844208>,\n",
              " <pytreebank.labeled_trees.LabeledTree at 0x7f481b844c18>,\n",
              " <pytreebank.labeled_trees.LabeledTree at 0x7f481b84a7b8>,\n",
              " <pytreebank.labeled_trees.LabeledTree at 0x7f481b84ea20>,\n",
              " <pytreebank.labeled_trees.LabeledTree at 0x7f481b854cc0>,\n",
              " <pytreebank.labeled_trees.LabeledTree at 0x7f481b854f60>,\n",
              " <pytreebank.labeled_trees.LabeledTree at 0x7f481b859cc0>,\n",
              " <pytreebank.labeled_trees.LabeledTree at 0x7f481b85fef0>,\n",
              " <pytreebank.labeled_trees.LabeledTree at 0x7f481b868b00>,\n",
              " <pytreebank.labeled_trees.LabeledTree at 0x7f481b86d9e8>,\n",
              " <pytreebank.labeled_trees.LabeledTree at 0x7f481b7f2b70>,\n",
              " <pytreebank.labeled_trees.LabeledTree at 0x7f481b7f8828>,\n",
              " <pytreebank.labeled_trees.LabeledTree at 0x7f481b7f8dd8>,\n",
              " <pytreebank.labeled_trees.LabeledTree at 0x7f481b7f7748>,\n",
              " <pytreebank.labeled_trees.LabeledTree at 0x7f481b7f7d30>,\n",
              " <pytreebank.labeled_trees.LabeledTree at 0x7f481b801630>,\n",
              " <pytreebank.labeled_trees.LabeledTree at 0x7f481b801eb8>,\n",
              " <pytreebank.labeled_trees.LabeledTree at 0x7f481b806a58>,\n",
              " <pytreebank.labeled_trees.LabeledTree at 0x7f481b80b588>,\n",
              " <pytreebank.labeled_trees.LabeledTree at 0x7f481b80bef0>,\n",
              " <pytreebank.labeled_trees.LabeledTree at 0x7f481b811208>,\n",
              " <pytreebank.labeled_trees.LabeledTree at 0x7f481b811518>,\n",
              " <pytreebank.labeled_trees.LabeledTree at 0x7f481b8166a0>,\n",
              " <pytreebank.labeled_trees.LabeledTree at 0x7f481b81c6d8>,\n",
              " <pytreebank.labeled_trees.LabeledTree at 0x7f481b81f748>,\n",
              " <pytreebank.labeled_trees.LabeledTree at 0x7f481b825710>,\n",
              " <pytreebank.labeled_trees.LabeledTree at 0x7f481b825c50>,\n",
              " <pytreebank.labeled_trees.LabeledTree at 0x7f481b82a9e8>,\n",
              " <pytreebank.labeled_trees.LabeledTree at 0x7f481b82fa58>,\n",
              " <pytreebank.labeled_trees.LabeledTree at 0x7f481b7b3a90>,\n",
              " <pytreebank.labeled_trees.LabeledTree at 0x7f481b7b8630>,\n",
              " <pytreebank.labeled_trees.LabeledTree at 0x7f481b7be748>,\n",
              " <pytreebank.labeled_trees.LabeledTree at 0x7f481b7c2b00>,\n",
              " <pytreebank.labeled_trees.LabeledTree at 0x7f481b7c2e48>,\n",
              " <pytreebank.labeled_trees.LabeledTree at 0x7f481b7c7cc0>,\n",
              " <pytreebank.labeled_trees.LabeledTree at 0x7f481b7cc5c0>,\n",
              " <pytreebank.labeled_trees.LabeledTree at 0x7f481b7cc828>,\n",
              " <pytreebank.labeled_trees.LabeledTree at 0x7f481b7d04a8>,\n",
              " <pytreebank.labeled_trees.LabeledTree at 0x7f481b7d6198>,\n",
              " <pytreebank.labeled_trees.LabeledTree at 0x7f481b7d6908>,\n",
              " <pytreebank.labeled_trees.LabeledTree at 0x7f481b7db4e0>,\n",
              " <pytreebank.labeled_trees.LabeledTree at 0x7f481b7e0438>,\n",
              " <pytreebank.labeled_trees.LabeledTree at 0x7f481b7e56a0>,\n",
              " <pytreebank.labeled_trees.LabeledTree at 0x7f481b7e59b0>,\n",
              " <pytreebank.labeled_trees.LabeledTree at 0x7f481b7ec630>,\n",
              " <pytreebank.labeled_trees.LabeledTree at 0x7f481b770080>,\n",
              " <pytreebank.labeled_trees.LabeledTree at 0x7f481b770ba8>,\n",
              " <pytreebank.labeled_trees.LabeledTree at 0x7f481b776710>,\n",
              " <pytreebank.labeled_trees.LabeledTree at 0x7f481b77b320>,\n",
              " <pytreebank.labeled_trees.LabeledTree at 0x7f481b77ba90>,\n",
              " <pytreebank.labeled_trees.LabeledTree at 0x7f481b7803c8>,\n",
              " <pytreebank.labeled_trees.LabeledTree at 0x7f481b780d30>,\n",
              " <pytreebank.labeled_trees.LabeledTree at 0x7f481b784a20>,\n",
              " <pytreebank.labeled_trees.LabeledTree at 0x7f481b78a828>,\n",
              " <pytreebank.labeled_trees.LabeledTree at 0x7f481b78f5f8>,\n",
              " <pytreebank.labeled_trees.LabeledTree at 0x7f481b794198>,\n",
              " <pytreebank.labeled_trees.LabeledTree at 0x7f481b794860>,\n",
              " <pytreebank.labeled_trees.LabeledTree at 0x7f481b798940>,\n",
              " <pytreebank.labeled_trees.LabeledTree at 0x7f481b79d7b8>,\n",
              " <pytreebank.labeled_trees.LabeledTree at 0x7f481b7a49e8>,\n",
              " <pytreebank.labeled_trees.LabeledTree at 0x7f481b7a8240>,\n",
              " <pytreebank.labeled_trees.LabeledTree at 0x7f481b7a8a90>,\n",
              " <pytreebank.labeled_trees.LabeledTree at 0x7f481b7310b8>,\n",
              " <pytreebank.labeled_trees.LabeledTree at 0x7f481b731588>,\n",
              " <pytreebank.labeled_trees.LabeledTree at 0x7f481b731b38>,\n",
              " <pytreebank.labeled_trees.LabeledTree at 0x7f481b737898>,\n",
              " <pytreebank.labeled_trees.LabeledTree at 0x7f481b737b38>,\n",
              " <pytreebank.labeled_trees.LabeledTree at 0x7f481b742470>,\n",
              " <pytreebank.labeled_trees.LabeledTree at 0x7f481b746a20>,\n",
              " <pytreebank.labeled_trees.LabeledTree at 0x7f481b74c320>,\n",
              " <pytreebank.labeled_trees.LabeledTree at 0x7f481b74ceb8>,\n",
              " <pytreebank.labeled_trees.LabeledTree at 0x7f481b755400>,\n",
              " <pytreebank.labeled_trees.LabeledTree at 0x7f481b755cc0>,\n",
              " <pytreebank.labeled_trees.LabeledTree at 0x7f481b75a2b0>,\n",
              " <pytreebank.labeled_trees.LabeledTree at 0x7f481b75aa20>,\n",
              " <pytreebank.labeled_trees.LabeledTree at 0x7f481b75f898>,\n",
              " <pytreebank.labeled_trees.LabeledTree at 0x7f481b764470>,\n",
              " <pytreebank.labeled_trees.LabeledTree at 0x7f481b7680b8>,\n",
              " <pytreebank.labeled_trees.LabeledTree at 0x7f481b768cf8>,\n",
              " <pytreebank.labeled_trees.LabeledTree at 0x7f481b762c50>,\n",
              " <pytreebank.labeled_trees.LabeledTree at 0x7f481b6f26a0>,\n",
              " <pytreebank.labeled_trees.LabeledTree at 0x7f481b6f8a90>,\n",
              " <pytreebank.labeled_trees.LabeledTree at 0x7f481b6f7ef0>,\n",
              " <pytreebank.labeled_trees.LabeledTree at 0x7f481b7073c8>,\n",
              " <pytreebank.labeled_trees.LabeledTree at 0x7f481b70bd30>,\n",
              " <pytreebank.labeled_trees.LabeledTree at 0x7f481b7119e8>,\n",
              " <pytreebank.labeled_trees.LabeledTree at 0x7f481b716400>,\n",
              " <pytreebank.labeled_trees.LabeledTree at 0x7f481b716da0>,\n",
              " <pytreebank.labeled_trees.LabeledTree at 0x7f481b71b9e8>,\n",
              " <pytreebank.labeled_trees.LabeledTree at 0x7f481b7215c0>,\n",
              " <pytreebank.labeled_trees.LabeledTree at 0x7f481b7217f0>,\n",
              " <pytreebank.labeled_trees.LabeledTree at 0x7f481b7267b8>,\n",
              " <pytreebank.labeled_trees.LabeledTree at 0x7f481b72b8d0>,\n",
              " <pytreebank.labeled_trees.LabeledTree at 0x7f481d6aa160>,\n",
              " <pytreebank.labeled_trees.LabeledTree at 0x7f481b72fb00>,\n",
              " <pytreebank.labeled_trees.LabeledTree at 0x7f481b6b6940>,\n",
              " <pytreebank.labeled_trees.LabeledTree at 0x7f481b6b6ef0>,\n",
              " <pytreebank.labeled_trees.LabeledTree at 0x7f481b6ba8d0>,\n",
              " <pytreebank.labeled_trees.LabeledTree at 0x7f481b6bf710>,\n",
              " <pytreebank.labeled_trees.LabeledTree at 0x7f481b6c45f8>,\n",
              " <pytreebank.labeled_trees.LabeledTree at 0x7f481b6c89b0>,\n",
              " <pytreebank.labeled_trees.LabeledTree at 0x7f481b6ce518>,\n",
              " <pytreebank.labeled_trees.LabeledTree at 0x7f481b6ceba8>,\n",
              " <pytreebank.labeled_trees.LabeledTree at 0x7f481b6d43c8>,\n",
              " <pytreebank.labeled_trees.LabeledTree at 0x7f481b6d4a20>,\n",
              " <pytreebank.labeled_trees.LabeledTree at 0x7f481b6dd048>,\n",
              " <pytreebank.labeled_trees.LabeledTree at 0x7f481b6dd518>,\n",
              " <pytreebank.labeled_trees.LabeledTree at 0x7f481b6dd8d0>,\n",
              " <pytreebank.labeled_trees.LabeledTree at 0x7f481b6e23c8>,\n",
              " <pytreebank.labeled_trees.LabeledTree at 0x7f481b6e2b70>,\n",
              " <pytreebank.labeled_trees.LabeledTree at 0x7f481b6e9278>,\n",
              " <pytreebank.labeled_trees.LabeledTree at 0x7f481b6e9be0>,\n",
              " <pytreebank.labeled_trees.LabeledTree at 0x7f481b6eeac8>,\n",
              " <pytreebank.labeled_trees.LabeledTree at 0x7f481b673c50>,\n",
              " <pytreebank.labeled_trees.LabeledTree at 0x7f481b6776a0>,\n",
              " <pytreebank.labeled_trees.LabeledTree at 0x7f481b677f60>,\n",
              " <pytreebank.labeled_trees.LabeledTree at 0x7f481b67c400>,\n",
              " <pytreebank.labeled_trees.LabeledTree at 0x7f481b682240>,\n",
              " <pytreebank.labeled_trees.LabeledTree at 0x7f481b682f98>,\n",
              " <pytreebank.labeled_trees.LabeledTree at 0x7f481b686668>,\n",
              " <pytreebank.labeled_trees.LabeledTree at 0x7f481b68b3c8>,\n",
              " <pytreebank.labeled_trees.LabeledTree at 0x7f481b68bb38>,\n",
              " <pytreebank.labeled_trees.LabeledTree at 0x7f481b68fba8>,\n",
              " <pytreebank.labeled_trees.LabeledTree at 0x7f481b694be0>,\n",
              " <pytreebank.labeled_trees.LabeledTree at 0x7f481b699cf8>,\n",
              " <pytreebank.labeled_trees.LabeledTree at 0x7f481b6a0518>,\n",
              " <pytreebank.labeled_trees.LabeledTree at 0x7f481b6a4e48>,\n",
              " <pytreebank.labeled_trees.LabeledTree at 0x7f481b6a9ef0>,\n",
              " <pytreebank.labeled_trees.LabeledTree at 0x7f481b6adc18>,\n",
              " <pytreebank.labeled_trees.LabeledTree at 0x7f481b634860>,\n",
              " <pytreebank.labeled_trees.LabeledTree at 0x7f481b634d68>,\n",
              " <pytreebank.labeled_trees.LabeledTree at 0x7f481b638b00>,\n",
              " <pytreebank.labeled_trees.LabeledTree at 0x7f481b638f28>,\n",
              " <pytreebank.labeled_trees.LabeledTree at 0x7f481b63f550>,\n",
              " <pytreebank.labeled_trees.LabeledTree at 0x7f481b63fd30>,\n",
              " <pytreebank.labeled_trees.LabeledTree at 0x7f481b642630>,\n",
              " <pytreebank.labeled_trees.LabeledTree at 0x7f481b6470b8>,\n",
              " <pytreebank.labeled_trees.LabeledTree at 0x7f481b64d320>,\n",
              " <pytreebank.labeled_trees.LabeledTree at 0x7f481b64d5f8>,\n",
              " <pytreebank.labeled_trees.LabeledTree at 0x7f481b64df60>,\n",
              " <pytreebank.labeled_trees.LabeledTree at 0x7f481b652ef0>,\n",
              " <pytreebank.labeled_trees.LabeledTree at 0x7f481b6575c0>,\n",
              " <pytreebank.labeled_trees.LabeledTree at 0x7f481b657eb8>,\n",
              " <pytreebank.labeled_trees.LabeledTree at 0x7f481b65c6d8>,\n",
              " <pytreebank.labeled_trees.LabeledTree at 0x7f481b662a90>,\n",
              " <pytreebank.labeled_trees.LabeledTree at 0x7f481b6660f0>,\n",
              " <pytreebank.labeled_trees.LabeledTree at 0x7f481b66a588>,\n",
              " <pytreebank.labeled_trees.LabeledTree at 0x7f481b66f400>,\n",
              " <pytreebank.labeled_trees.LabeledTree at 0x7f481b5f3e80>,\n",
              " <pytreebank.labeled_trees.LabeledTree at 0x7f481b5f9cc0>,\n",
              " <pytreebank.labeled_trees.LabeledTree at 0x7f481b5fe278>,\n",
              " <pytreebank.labeled_trees.LabeledTree at 0x7f481b5fec18>,\n",
              " <pytreebank.labeled_trees.LabeledTree at 0x7f481b602278>,\n",
              " <pytreebank.labeled_trees.LabeledTree at 0x7f481b607550>,\n",
              " <pytreebank.labeled_trees.LabeledTree at 0x7f481b60c400>,\n",
              " <pytreebank.labeled_trees.LabeledTree at 0x7f481b613080>,\n",
              " <pytreebank.labeled_trees.LabeledTree at 0x7f481b613748>,\n",
              " <pytreebank.labeled_trees.LabeledTree at 0x7f481b6160f0>,\n",
              " <pytreebank.labeled_trees.LabeledTree at 0x7f481b616908>,\n",
              " <pytreebank.labeled_trees.LabeledTree at 0x7f481b61b7f0>,\n",
              " <pytreebank.labeled_trees.LabeledTree at 0x7f481b6207f0>,\n",
              " <pytreebank.labeled_trees.LabeledTree at 0x7f481b627400>,\n",
              " <pytreebank.labeled_trees.LabeledTree at 0x7f481b62d128>,\n",
              " <pytreebank.labeled_trees.LabeledTree at 0x7f481b62d208>,\n",
              " <pytreebank.labeled_trees.LabeledTree at 0x7f481b62da90>,\n",
              " <pytreebank.labeled_trees.LabeledTree at 0x7f481b5b2c18>,\n",
              " <pytreebank.labeled_trees.LabeledTree at 0x7f481b5b67f0>,\n",
              " <pytreebank.labeled_trees.LabeledTree at 0x7f481b5bb518>,\n",
              " <pytreebank.labeled_trees.LabeledTree at 0x7f481b5c1d68>,\n",
              " <pytreebank.labeled_trees.LabeledTree at 0x7f481b5c62b0>,\n",
              " <pytreebank.labeled_trees.LabeledTree at 0x7f481b5ca588>,\n",
              " <pytreebank.labeled_trees.LabeledTree at 0x7f481b5caba8>,\n",
              " <pytreebank.labeled_trees.LabeledTree at 0x7f481b5cf588>,\n",
              " <pytreebank.labeled_trees.LabeledTree at 0x7f481b5d3240>,\n",
              " <pytreebank.labeled_trees.LabeledTree at 0x7f481b5d3a58>,\n",
              " <pytreebank.labeled_trees.LabeledTree at 0x7f481b5d3da0>,\n",
              " <pytreebank.labeled_trees.LabeledTree at 0x7f481b5d8780>,\n",
              " <pytreebank.labeled_trees.LabeledTree at 0x7f481b5de6a0>,\n",
              " <pytreebank.labeled_trees.LabeledTree at 0x7f481b5deda0>,\n",
              " <pytreebank.labeled_trees.LabeledTree at 0x7f481b5e4128>,\n",
              " <pytreebank.labeled_trees.LabeledTree at 0x7f481b5e4ba8>,\n",
              " <pytreebank.labeled_trees.LabeledTree at 0x7f481b5e99b0>,\n",
              " <pytreebank.labeled_trees.LabeledTree at 0x7f481b5730f0>,\n",
              " <pytreebank.labeled_trees.LabeledTree at 0x7f481b573908>,\n",
              " <pytreebank.labeled_trees.LabeledTree at 0x7f481b578208>,\n",
              " <pytreebank.labeled_trees.LabeledTree at 0x7f481b578c50>,\n",
              " <pytreebank.labeled_trees.LabeledTree at 0x7f481b57d8d0>,\n",
              " <pytreebank.labeled_trees.LabeledTree at 0x7f481b57de80>,\n",
              " <pytreebank.labeled_trees.LabeledTree at 0x7f481b582438>,\n",
              " <pytreebank.labeled_trees.LabeledTree at 0x7f481b588128>,\n",
              " <pytreebank.labeled_trees.LabeledTree at 0x7f481b588828>,\n",
              " <pytreebank.labeled_trees.LabeledTree at 0x7f481b58b0b8>,\n",
              " <pytreebank.labeled_trees.LabeledTree at 0x7f481b58bbe0>,\n",
              " <pytreebank.labeled_trees.LabeledTree at 0x7f481b58bd68>,\n",
              " <pytreebank.labeled_trees.LabeledTree at 0x7f481b58d748>,\n",
              " <pytreebank.labeled_trees.LabeledTree at 0x7f481b58d9b0>,\n",
              " <pytreebank.labeled_trees.LabeledTree at 0x7f481b5969b0>,\n",
              " <pytreebank.labeled_trees.LabeledTree at 0x7f481b596da0>,\n",
              " <pytreebank.labeled_trees.LabeledTree at 0x7f481b59b668>,\n",
              " <pytreebank.labeled_trees.LabeledTree at 0x7f481b5a15c0>,\n",
              " <pytreebank.labeled_trees.LabeledTree at 0x7f481b5a1c18>,\n",
              " <pytreebank.labeled_trees.LabeledTree at 0x7f481b5a6518>,\n",
              " <pytreebank.labeled_trees.LabeledTree at 0x7f481b5a69b0>,\n",
              " <pytreebank.labeled_trees.LabeledTree at 0x7f481b531710>,\n",
              " <pytreebank.labeled_trees.LabeledTree at 0x7f481b535a20>,\n",
              " <pytreebank.labeled_trees.LabeledTree at 0x7f481b53a3c8>,\n",
              " <pytreebank.labeled_trees.LabeledTree at 0x7f481b53ad68>,\n",
              " <pytreebank.labeled_trees.LabeledTree at 0x7f481b5444a8>,\n",
              " <pytreebank.labeled_trees.LabeledTree at 0x7f481b544e10>,\n",
              " <pytreebank.labeled_trees.LabeledTree at 0x7f481b547b00>,\n",
              " <pytreebank.labeled_trees.LabeledTree at 0x7f481b552198>,\n",
              " <pytreebank.labeled_trees.LabeledTree at 0x7f481b552da0>,\n",
              " <pytreebank.labeled_trees.LabeledTree at 0x7f481b559e10>,\n",
              " <pytreebank.labeled_trees.LabeledTree at 0x7f481b562198>,\n",
              " <pytreebank.labeled_trees.LabeledTree at 0x7f481b5672b0>,\n",
              " <pytreebank.labeled_trees.LabeledTree at 0x7f481b56c630>,\n",
              " <pytreebank.labeled_trees.LabeledTree at 0x7f481b4f0630>,\n",
              " <pytreebank.labeled_trees.LabeledTree at 0x7f481b4f0c50>,\n",
              " <pytreebank.labeled_trees.LabeledTree at 0x7f481b4f5550>,\n",
              " <pytreebank.labeled_trees.LabeledTree at 0x7f481b4fc6d8>,\n",
              " <pytreebank.labeled_trees.LabeledTree at 0x7f481b501860>,\n",
              " <pytreebank.labeled_trees.LabeledTree at 0x7f481b501ba8>,\n",
              " <pytreebank.labeled_trees.LabeledTree at 0x7f481b506f60>,\n",
              " <pytreebank.labeled_trees.LabeledTree at 0x7f481b50bc50>,\n",
              " <pytreebank.labeled_trees.LabeledTree at 0x7f481b511f28>,\n",
              " <pytreebank.labeled_trees.LabeledTree at 0x7f481b516dd8>,\n",
              " <pytreebank.labeled_trees.LabeledTree at 0x7f481b51bfd0>,\n",
              " <pytreebank.labeled_trees.LabeledTree at 0x7f481b51f940>,\n",
              " <pytreebank.labeled_trees.LabeledTree at 0x7f481b525588>,\n",
              " <pytreebank.labeled_trees.LabeledTree at 0x7f481b525fd0>,\n",
              " <pytreebank.labeled_trees.LabeledTree at 0x7f481b52a908>,\n",
              " <pytreebank.labeled_trees.LabeledTree at 0x7f481b52e080>,\n",
              " <pytreebank.labeled_trees.LabeledTree at 0x7f481b52ee10>,\n",
              " <pytreebank.labeled_trees.LabeledTree at 0x7f481b4b8160>,\n",
              " <pytreebank.labeled_trees.LabeledTree at 0x7f481b4b8f28>,\n",
              " <pytreebank.labeled_trees.LabeledTree at 0x7f481b4bfd30>,\n",
              " <pytreebank.labeled_trees.LabeledTree at 0x7f481b4c3898>,\n",
              " <pytreebank.labeled_trees.LabeledTree at 0x7f481b4c3f60>,\n",
              " <pytreebank.labeled_trees.LabeledTree at 0x7f481b4c7828>,\n",
              " <pytreebank.labeled_trees.LabeledTree at 0x7f481b4cc668>,\n",
              " <pytreebank.labeled_trees.LabeledTree at 0x7f481b4d2588>,\n",
              " <pytreebank.labeled_trees.LabeledTree at 0x7f481b4d7470>,\n",
              " <pytreebank.labeled_trees.LabeledTree at 0x7f481b4d7ba8>,\n",
              " <pytreebank.labeled_trees.LabeledTree at 0x7f481b4db9b0>,\n",
              " <pytreebank.labeled_trees.LabeledTree at 0x7f481b4e12b0>,\n",
              " <pytreebank.labeled_trees.LabeledTree at 0x7f481b4e7128>,\n",
              " <pytreebank.labeled_trees.LabeledTree at 0x7f481b4e7b38>,\n",
              " <pytreebank.labeled_trees.LabeledTree at 0x7f481b4eb630>,\n",
              " <pytreebank.labeled_trees.LabeledTree at 0x7f481b4eb908>,\n",
              " <pytreebank.labeled_trees.LabeledTree at 0x7f481b4720b8>,\n",
              " <pytreebank.labeled_trees.LabeledTree at 0x7f481b476358>,\n",
              " <pytreebank.labeled_trees.LabeledTree at 0x7f481b4767f0>,\n",
              " <pytreebank.labeled_trees.LabeledTree at 0x7f481b47b438>,\n",
              " <pytreebank.labeled_trees.LabeledTree at 0x7f481b47f438>,\n",
              " <pytreebank.labeled_trees.LabeledTree at 0x7f481b47f9e8>,\n",
              " <pytreebank.labeled_trees.LabeledTree at 0x7f481b485ac8>,\n",
              " <pytreebank.labeled_trees.LabeledTree at 0x7f481b48a198>,\n",
              " <pytreebank.labeled_trees.LabeledTree at 0x7f481b48a7f0>,\n",
              " <pytreebank.labeled_trees.LabeledTree at 0x7f481b48f898>,\n",
              " <pytreebank.labeled_trees.LabeledTree at 0x7f481b48fc18>,\n",
              " <pytreebank.labeled_trees.LabeledTree at 0x7f481b493940>,\n",
              " <pytreebank.labeled_trees.LabeledTree at 0x7f481b49e278>,\n",
              " <pytreebank.labeled_trees.LabeledTree at 0x7f481b49ed30>,\n",
              " <pytreebank.labeled_trees.LabeledTree at 0x7f481b4a39e8>,\n",
              " <pytreebank.labeled_trees.LabeledTree at 0x7f481b4a3e10>,\n",
              " <pytreebank.labeled_trees.LabeledTree at 0x7f481b4a8048>,\n",
              " <pytreebank.labeled_trees.LabeledTree at 0x7f481b4a8eb8>,\n",
              " <pytreebank.labeled_trees.LabeledTree at 0x7f481b4329b0>,\n",
              " <pytreebank.labeled_trees.LabeledTree at 0x7f481b439630>,\n",
              " <pytreebank.labeled_trees.LabeledTree at 0x7f481b439c50>,\n",
              " <pytreebank.labeled_trees.LabeledTree at 0x7f481b43d748>,\n",
              " <pytreebank.labeled_trees.LabeledTree at 0x7f481b43dba8>,\n",
              " <pytreebank.labeled_trees.LabeledTree at 0x7f481b4422b0>,\n",
              " <pytreebank.labeled_trees.LabeledTree at 0x7f481b4463c8>,\n",
              " <pytreebank.labeled_trees.LabeledTree at 0x7f481b446860>,\n",
              " <pytreebank.labeled_trees.LabeledTree at 0x7f481b44a1d0>,\n",
              " <pytreebank.labeled_trees.LabeledTree at 0x7f481b44af98>,\n",
              " <pytreebank.labeled_trees.LabeledTree at 0x7f481b44ffd0>,\n",
              " <pytreebank.labeled_trees.LabeledTree at 0x7f481b450f60>,\n",
              " <pytreebank.labeled_trees.LabeledTree at 0x7f481b45a400>,\n",
              " <pytreebank.labeled_trees.LabeledTree at 0x7f481b45ac18>,\n",
              " <pytreebank.labeled_trees.LabeledTree at 0x7f481b460ba8>,\n",
              " <pytreebank.labeled_trees.LabeledTree at 0x7f481b460eb8>,\n",
              " <pytreebank.labeled_trees.LabeledTree at 0x7f481b45cf98>,\n",
              " <pytreebank.labeled_trees.LabeledTree at 0x7f481b469860>,\n",
              " <pytreebank.labeled_trees.LabeledTree at 0x7f481b46f5c0>,\n",
              " <pytreebank.labeled_trees.LabeledTree at 0x7f481b46fd68>,\n",
              " <pytreebank.labeled_trees.LabeledTree at 0x7f481b3f34a8>,\n",
              " <pytreebank.labeled_trees.LabeledTree at 0x7f481b3f3f28>,\n",
              " <pytreebank.labeled_trees.LabeledTree at 0x7f481b3f9a58>,\n",
              " <pytreebank.labeled_trees.LabeledTree at 0x7f481b3fd358>,\n",
              " <pytreebank.labeled_trees.LabeledTree at 0x7f481b4040b8>,\n",
              " <pytreebank.labeled_trees.LabeledTree at 0x7f481b409630>,\n",
              " <pytreebank.labeled_trees.LabeledTree at 0x7f481b409c18>,\n",
              " <pytreebank.labeled_trees.LabeledTree at 0x7f481b40e3c8>,\n",
              " <pytreebank.labeled_trees.LabeledTree at 0x7f481b412198>,\n",
              " <pytreebank.labeled_trees.LabeledTree at 0x7f481b417080>,\n",
              " <pytreebank.labeled_trees.LabeledTree at 0x7f481b417ba8>,\n",
              " <pytreebank.labeled_trees.LabeledTree at 0x7f481b41de48>,\n",
              " <pytreebank.labeled_trees.LabeledTree at 0x7f481b4273c8>,\n",
              " <pytreebank.labeled_trees.LabeledTree at 0x7f481b427d68>,\n",
              " <pytreebank.labeled_trees.LabeledTree at 0x7f481b42ba58>,\n",
              " <pytreebank.labeled_trees.LabeledTree at 0x7f481b3b1518>,\n",
              " <pytreebank.labeled_trees.LabeledTree at 0x7f481b3b1ef0>,\n",
              " <pytreebank.labeled_trees.LabeledTree at 0x7f481b3b7ac8>,\n",
              " <pytreebank.labeled_trees.LabeledTree at 0x7f481b3bb320>,\n",
              " <pytreebank.labeled_trees.LabeledTree at 0x7f481b3be0f0>,\n",
              " <pytreebank.labeled_trees.LabeledTree at 0x7f481b3be5f8>,\n",
              " <pytreebank.labeled_trees.LabeledTree at 0x7f481b3c3358>,\n",
              " <pytreebank.labeled_trees.LabeledTree at 0x7f481b3c3ac8>,\n",
              " <pytreebank.labeled_trees.LabeledTree at 0x7f481b3ca6d8>,\n",
              " <pytreebank.labeled_trees.LabeledTree at 0x7f481b3cf4e0>,\n",
              " <pytreebank.labeled_trees.LabeledTree at 0x7f481b3d82b0>,\n",
              " <pytreebank.labeled_trees.LabeledTree at 0x7f481b3dd160>,\n",
              " <pytreebank.labeled_trees.LabeledTree at 0x7f481b3dde80>,\n",
              " <pytreebank.labeled_trees.LabeledTree at 0x7f481b3e3d30>,\n",
              " <pytreebank.labeled_trees.LabeledTree at 0x7f481b3e8780>,\n",
              " <pytreebank.labeled_trees.LabeledTree at 0x7f481b3edba8>,\n",
              " <pytreebank.labeled_trees.LabeledTree at 0x7f481b372860>,\n",
              " <pytreebank.labeled_trees.LabeledTree at 0x7f481b3779e8>,\n",
              " <pytreebank.labeled_trees.LabeledTree at 0x7f481b37eda0>,\n",
              " <pytreebank.labeled_trees.LabeledTree at 0x7f481b37d668>,\n",
              " <pytreebank.labeled_trees.LabeledTree at 0x7f481b37dbe0>,\n",
              " <pytreebank.labeled_trees.LabeledTree at 0x7f481b387d30>,\n",
              " <pytreebank.labeled_trees.LabeledTree at 0x7f481b3866a0>,\n",
              " <pytreebank.labeled_trees.LabeledTree at 0x7f481b391198>,\n",
              " <pytreebank.labeled_trees.LabeledTree at 0x7f481b3960b8>,\n",
              " <pytreebank.labeled_trees.LabeledTree at 0x7f481b39b3c8>,\n",
              " <pytreebank.labeled_trees.LabeledTree at 0x7f481b39bfd0>,\n",
              " <pytreebank.labeled_trees.LabeledTree at 0x7f481b3a55f8>,\n",
              " <pytreebank.labeled_trees.LabeledTree at 0x7f481b3ab470>,\n",
              " <pytreebank.labeled_trees.LabeledTree at 0x7f481b3af438>,\n",
              " <pytreebank.labeled_trees.LabeledTree at 0x7f481b3af9b0>,\n",
              " <pytreebank.labeled_trees.LabeledTree at 0x7f481b3afdd8>,\n",
              " <pytreebank.labeled_trees.LabeledTree at 0x7f481b334c50>,\n",
              " <pytreebank.labeled_trees.LabeledTree at 0x7f481b33d160>,\n",
              " <pytreebank.labeled_trees.LabeledTree at 0x7f481b33d9b0>,\n",
              " <pytreebank.labeled_trees.LabeledTree at 0x7f481b344b70>,\n",
              " <pytreebank.labeled_trees.LabeledTree at 0x7f481b3497b8>,\n",
              " <pytreebank.labeled_trees.LabeledTree at 0x7f481b349eb8>,\n",
              " <pytreebank.labeled_trees.LabeledTree at 0x7f481b34e828>,\n",
              " <pytreebank.labeled_trees.LabeledTree at 0x7f481b3534e0>,\n",
              " <pytreebank.labeled_trees.LabeledTree at 0x7f481b353a20>,\n",
              " <pytreebank.labeled_trees.LabeledTree at 0x7f481b358be0>,\n",
              " <pytreebank.labeled_trees.LabeledTree at 0x7f481b35f1d0>,\n",
              " <pytreebank.labeled_trees.LabeledTree at 0x7f481b35f4e0>,\n",
              " <pytreebank.labeled_trees.LabeledTree at 0x7f481b364da0>,\n",
              " <pytreebank.labeled_trees.LabeledTree at 0x7f481b368470>,\n",
              " <pytreebank.labeled_trees.LabeledTree at 0x7f481b36e588>,\n",
              " <pytreebank.labeled_trees.LabeledTree at 0x7f481b2f2f60>,\n",
              " <pytreebank.labeled_trees.LabeledTree at 0x7f481b2fc4e0>,\n",
              " <pytreebank.labeled_trees.LabeledTree at 0x7f481b2fc828>,\n",
              " <pytreebank.labeled_trees.LabeledTree at 0x7f481b2fce48>,\n",
              " <pytreebank.labeled_trees.LabeledTree at 0x7f481b3033c8>,\n",
              " <pytreebank.labeled_trees.LabeledTree at 0x7f481b3037b8>,\n",
              " <pytreebank.labeled_trees.LabeledTree at 0x7f481b303940>,\n",
              " <pytreebank.labeled_trees.LabeledTree at 0x7f481b307fd0>,\n",
              " <pytreebank.labeled_trees.LabeledTree at 0x7f481b30cba8>,\n",
              " <pytreebank.labeled_trees.LabeledTree at 0x7f481b311fd0>,\n",
              " <pytreebank.labeled_trees.LabeledTree at 0x7f481b315b70>,\n",
              " <pytreebank.labeled_trees.LabeledTree at 0x7f481b31a4a8>,\n",
              " <pytreebank.labeled_trees.LabeledTree at 0x7f481b31add8>,\n",
              " <pytreebank.labeled_trees.LabeledTree at 0x7f481b31feb8>,\n",
              " <pytreebank.labeled_trees.LabeledTree at 0x7f481b324cc0>,\n",
              " <pytreebank.labeled_trees.LabeledTree at 0x7f481b32b128>,\n",
              " <pytreebank.labeled_trees.LabeledTree at 0x7f481b32b6d8>,\n",
              " <pytreebank.labeled_trees.LabeledTree at 0x7f481b32f3c8>,\n",
              " <pytreebank.labeled_trees.LabeledTree at 0x7f481b32ff98>,\n",
              " <pytreebank.labeled_trees.LabeledTree at 0x7f481b2b4400>,\n",
              " <pytreebank.labeled_trees.LabeledTree at 0x7f481b2b4828>,\n",
              " <pytreebank.labeled_trees.LabeledTree at 0x7f481b2b9f60>,\n",
              " <pytreebank.labeled_trees.LabeledTree at 0x7f481b2bfcc0>,\n",
              " <pytreebank.labeled_trees.LabeledTree at 0x7f481b2c4128>,\n",
              " <pytreebank.labeled_trees.LabeledTree at 0x7f481b2c99e8>,\n",
              " <pytreebank.labeled_trees.LabeledTree at 0x7f481b2d3400>,\n",
              " <pytreebank.labeled_trees.LabeledTree at 0x7f481b2d3a20>,\n",
              " <pytreebank.labeled_trees.LabeledTree at 0x7f481b2d8550>,\n",
              " <pytreebank.labeled_trees.LabeledTree at 0x7f481b2dd208>,\n",
              " <pytreebank.labeled_trees.LabeledTree at 0x7f481b2e1048>,\n",
              " <pytreebank.labeled_trees.LabeledTree at 0x7f481b2e18d0>,\n",
              " <pytreebank.labeled_trees.LabeledTree at 0x7f481b2e1ef0>,\n",
              " <pytreebank.labeled_trees.LabeledTree at 0x7f481b2e7978>,\n",
              " <pytreebank.labeled_trees.LabeledTree at 0x7f481b270208>,\n",
              " <pytreebank.labeled_trees.LabeledTree at 0x7f481b270cf8>,\n",
              " <pytreebank.labeled_trees.LabeledTree at 0x7f481b277c88>,\n",
              " <pytreebank.labeled_trees.LabeledTree at 0x7f481b27ddd8>,\n",
              " ...]"
            ]
          },
          "metadata": {
            "tags": []
          },
          "execution_count": 5
        }
      ]
    },
    {
      "cell_type": "code",
      "metadata": {
        "id": "Lj_ynly1VakE",
        "colab_type": "code",
        "outputId": "3ba0e6b6-5c0b-4cd8-db31-61f4c913410a",
        "colab": {
          "base_uri": "https://localhost:8080/",
          "height": 648
        }
      },
      "source": [
        "import pandas as pd\n",
        "data_train = [\n",
        "                (\n",
        "                    tree.to_lines()[0],\n",
        "                    tree.label\n",
        "                )\n",
        "                for tree in sst['train']\n",
        "            ]\n",
        "data_test = [(\n",
        "  tree.to_lines()[0],\n",
        "  tree.label\n",
        ")\n",
        "for tree in sst['test']\n",
        "]\n",
        "x_train=pd.DataFrame(data_train,columns=['sentence','label'])\n",
        "x_test=pd.DataFrame(data_test,columns=['sentence','label'])\n",
        "x_train_sent=x_train[['sentence']]\n",
        "print(x_train_sent)\n",
        "y_train_ind=x_train['label']\n",
        "y_train_ind\n",
        "x_test_sent=x_test[['sentence']]\n",
        "y_test_ind=x_test['label']\n",
        "x_test_sent\n"
      ],
      "execution_count": 0,
      "outputs": [
        {
          "output_type": "stream",
          "text": [
            "                                               sentence\n",
            "0     The Rock is destined to be the 21st Century 's...\n",
            "1     The gorgeously elaborate continuation of `` Th...\n",
            "2     Singer/composer Bryan Adams contributes a slew...\n",
            "3     You 'd think by now America would have had eno...\n",
            "4                  Yet the act is still charming here .\n",
            "...                                                 ...\n",
            "8539                                    A real snooze .\n",
            "8540                                     No surprises .\n",
            "8541  We 've seen the hippie-turned-yuppie plot befo...\n",
            "8542  Her fans walked out muttering words like `` ho...\n",
            "8543                                In this case zero .\n",
            "\n",
            "[8544 rows x 1 columns]\n"
          ],
          "name": "stdout"
        },
        {
          "output_type": "execute_result",
          "data": {
            "text/html": [
              "<div>\n",
              "<style scoped>\n",
              "    .dataframe tbody tr th:only-of-type {\n",
              "        vertical-align: middle;\n",
              "    }\n",
              "\n",
              "    .dataframe tbody tr th {\n",
              "        vertical-align: top;\n",
              "    }\n",
              "\n",
              "    .dataframe thead th {\n",
              "        text-align: right;\n",
              "    }\n",
              "</style>\n",
              "<table border=\"1\" class=\"dataframe\">\n",
              "  <thead>\n",
              "    <tr style=\"text-align: right;\">\n",
              "      <th></th>\n",
              "      <th>sentence</th>\n",
              "    </tr>\n",
              "  </thead>\n",
              "  <tbody>\n",
              "    <tr>\n",
              "      <th>0</th>\n",
              "      <td>Effective but too-tepid biopic</td>\n",
              "    </tr>\n",
              "    <tr>\n",
              "      <th>1</th>\n",
              "      <td>If you sometimes like to go to the movies to h...</td>\n",
              "    </tr>\n",
              "    <tr>\n",
              "      <th>2</th>\n",
              "      <td>Emerges as something rare , an issue movie tha...</td>\n",
              "    </tr>\n",
              "    <tr>\n",
              "      <th>3</th>\n",
              "      <td>The film provides some great insight into the ...</td>\n",
              "    </tr>\n",
              "    <tr>\n",
              "      <th>4</th>\n",
              "      <td>Offers that rare combination of entertainment ...</td>\n",
              "    </tr>\n",
              "    <tr>\n",
              "      <th>...</th>\n",
              "      <td>...</td>\n",
              "    </tr>\n",
              "    <tr>\n",
              "      <th>2205</th>\n",
              "      <td>An imaginative comedy/thriller .</td>\n",
              "    </tr>\n",
              "    <tr>\n",
              "      <th>2206</th>\n",
              "      <td>( A ) rare , beautiful film .</td>\n",
              "    </tr>\n",
              "    <tr>\n",
              "      <th>2207</th>\n",
              "      <td>( An ) hilarious romantic comedy .</td>\n",
              "    </tr>\n",
              "    <tr>\n",
              "      <th>2208</th>\n",
              "      <td>Never ( sinks ) into exploitation .</td>\n",
              "    </tr>\n",
              "    <tr>\n",
              "      <th>2209</th>\n",
              "      <td>( U ) nrelentingly stupid .</td>\n",
              "    </tr>\n",
              "  </tbody>\n",
              "</table>\n",
              "<p>2210 rows × 1 columns</p>\n",
              "</div>"
            ],
            "text/plain": [
              "                                               sentence\n",
              "0                        Effective but too-tepid biopic\n",
              "1     If you sometimes like to go to the movies to h...\n",
              "2     Emerges as something rare , an issue movie tha...\n",
              "3     The film provides some great insight into the ...\n",
              "4     Offers that rare combination of entertainment ...\n",
              "...                                                 ...\n",
              "2205                   An imaginative comedy/thriller .\n",
              "2206                      ( A ) rare , beautiful film .\n",
              "2207                 ( An ) hilarious romantic comedy .\n",
              "2208                Never ( sinks ) into exploitation .\n",
              "2209                        ( U ) nrelentingly stupid .\n",
              "\n",
              "[2210 rows x 1 columns]"
            ]
          },
          "metadata": {
            "tags": []
          },
          "execution_count": 22
        }
      ]
    },
    {
      "cell_type": "code",
      "metadata": {
        "id": "J8NBn-iJabI4",
        "colab_type": "code",
        "colab": {}
      },
      "source": [
        "# import pickle\n",
        "# token_train=pickle.load(open('/content/drive/My Drive/token_train.pkl', 'rb'))\n",
        "# token_test=pickle.load(open('/content/drive/My Drive/token_test.pkl', 'rb'))"
      ],
      "execution_count": 0,
      "outputs": []
    },
    {
      "cell_type": "markdown",
      "metadata": {
        "id": "bVJUW_aij3vn",
        "colab_type": "text"
      },
      "source": [
        "Pre-Processing"
      ]
    },
    {
      "cell_type": "code",
      "metadata": {
        "id": "vGrATjN7kr7R",
        "colab_type": "code",
        "outputId": "e75037e7-ca10-4373-f239-dd9e6aa47131",
        "colab": {
          "base_uri": "https://localhost:8080/",
          "height": 70
        }
      },
      "source": [
        "import keras\n",
        "from keras.preprocessing.text import Tokenizer\n",
        "from keras.preprocessing.sequence import pad_sequences\n",
        "tokenizer = Tokenizer(nb_words=2500, lower=True,split=' ')\n",
        "tokenizer.fit_on_texts(x_train_sent['sentence'])\n",
        "tokenizer.fit_on_texts(x_test_sent['sentence'])\n",
        "# print(len(tokenizer.word_index))\n",
        "X = tokenizer.texts_to_sequences(list(x_train_sent['sentence']))\n",
        "x=tokenizer.texts_to_sequences(list(x_test_sent['sentence']))\n",
        "x=pad_sequences(x)\n",
        "X = pad_sequences(X)\n",
        "# print(X)"
      ],
      "execution_count": 0,
      "outputs": [
        {
          "output_type": "stream",
          "text": [
            "Using TensorFlow backend.\n",
            "/usr/local/lib/python3.6/dist-packages/keras_preprocessing/text.py:178: UserWarning: The `nb_words` argument in `Tokenizer` has been renamed `num_words`.\n",
            "  warnings.warn('The `nb_words` argument in `Tokenizer` '\n"
          ],
          "name": "stderr"
        }
      ]
    },
    {
      "cell_type": "markdown",
      "metadata": {
        "id": "roAb8ab6j8Xr",
        "colab_type": "text"
      },
      "source": [
        "Vocabulary "
      ]
    },
    {
      "cell_type": "code",
      "metadata": {
        "id": "p3TMQx7-d1VO",
        "colab_type": "code",
        "colab": {}
      },
      "source": [
        "import pickle\n",
        "# embeding_matrix=np.zeros((len(),300))\n",
        "vocabulary=[]\n",
        "for token,index in tokenizer.word_index.items():\n",
        "  vocabulary.insert(index,token) \n",
        "pickle.dump(vocabulary,open('/content/drive/My Drive/vocabulary.pickle', 'wb'))\n",
        "# for wor in vocabulary:\n",
        "# len(vocabulary)\n",
        "# len(tokenizer.word_index.keys())  "
      ],
      "execution_count": 0,
      "outputs": []
    },
    {
      "cell_type": "code",
      "metadata": {
        "id": "VANr_V5M7acB",
        "colab_type": "code",
        "colab": {}
      },
      "source": [
        "glove_embed_sst=pickle.load(open('/content/drive/My Drive/Glove_embed_sst.pkl', 'rb'))"
      ],
      "execution_count": 0,
      "outputs": []
    },
    {
      "cell_type": "markdown",
      "metadata": {
        "id": "1iC959u4kDaY",
        "colab_type": "text"
      },
      "source": [
        "Embedding matrix"
      ]
    },
    {
      "cell_type": "code",
      "metadata": {
        "id": "QFbQFBnzNmH7",
        "colab_type": "code",
        "outputId": "62ffd855-ec87-4856-a5f0-eed0c6f9ec8d",
        "colab": {
          "base_uri": "https://localhost:8080/",
          "height": 35
        }
      },
      "source": [
        "embedding_matrix=np.zeros((len(vocabulary),300))\n",
        "for word,vec in glove_embed_sst.items():\n",
        "  ind=vocabulary.index(word)\n",
        "  embedding_matrix[ind]=vec\n",
        "embedding_matrix.shape\n"
      ],
      "execution_count": 0,
      "outputs": [
        {
          "output_type": "execute_result",
          "data": {
            "text/plain": [
              "(17087, 300)"
            ]
          },
          "metadata": {
            "tags": []
          },
          "execution_count": 11
        }
      ]
    },
    {
      "cell_type": "markdown",
      "metadata": {
        "id": "CPNKy9nckHdb",
        "colab_type": "text"
      },
      "source": [
        "LSTM and Bi-LSTM"
      ]
    },
    {
      "cell_type": "code",
      "metadata": {
        "id": "tOTABNes0WYk",
        "colab_type": "code",
        "outputId": "0541b85f-bc97-41fd-9841-a9f4a893d6e1",
        "colab": {
          "base_uri": "https://localhost:8080/",
          "height": 410
        }
      },
      "source": [
        "from keras.models import Sequential\n",
        "from keras.layers import LSTM, Dense, Dropout, Masking, Embedding,Bidirectional\n",
        "from keras.layers import Dense\n",
        "lstm_out = 300\n",
        "batch_size = 32\n",
        "model = Sequential()\n",
        "model.add(Embedding(len(vocabulary), 300,input_length = X.shape[1], dropout = 0.2))\n",
        "model.add(Masking(mask_value=0))\n",
        "model.add(Bidirectional(LSTM(lstm_out, dropout_U = 0.2, dropout_W = 0.2)))\n",
        "# model.add(Dropout(0.2))\n",
        "model.add(Dense(5,activation='softmax'))\n",
        "model.compile(loss = 'categorical_crossentropy', optimizer='adam',metrics = ['accuracy'])\n",
        "print(model.summary())"
      ],
      "execution_count": 0,
      "outputs": [
        {
          "output_type": "stream",
          "text": [
            "/usr/local/lib/python3.6/dist-packages/ipykernel_launcher.py:7: UserWarning: The `dropout` argument is no longer support in `Embedding`. You can apply a `keras.layers.SpatialDropout1D` layer right after the `Embedding` layer to get the same behavior.\n",
            "  import sys\n",
            "/usr/local/lib/python3.6/dist-packages/ipykernel_launcher.py:9: UserWarning: Update your `LSTM` call to the Keras 2 API: `LSTM(300, dropout=0.2, recurrent_dropout=0.2)`\n",
            "  if __name__ == '__main__':\n"
          ],
          "name": "stderr"
        },
        {
          "output_type": "stream",
          "text": [
            "Model: \"sequential_7\"\n",
            "_________________________________________________________________\n",
            "Layer (type)                 Output Shape              Param #   \n",
            "=================================================================\n",
            "embedding_6 (Embedding)      (None, 46, 300)           5126100   \n",
            "_________________________________________________________________\n",
            "masking_6 (Masking)          (None, 46, 300)           0         \n",
            "_________________________________________________________________\n",
            "bidirectional_5 (Bidirection (None, 600)               1442400   \n",
            "_________________________________________________________________\n",
            "dense_9 (Dense)              (None, 5)                 3005      \n",
            "=================================================================\n",
            "Total params: 6,571,505\n",
            "Trainable params: 6,571,505\n",
            "Non-trainable params: 0\n",
            "_________________________________________________________________\n",
            "None\n"
          ],
          "name": "stdout"
        }
      ]
    },
    {
      "cell_type": "code",
      "metadata": {
        "id": "hf5Hyl9uCosb",
        "colab_type": "code",
        "outputId": "f994b482-455b-4ab1-977f-4debeef8e699",
        "colab": {
          "base_uri": "https://localhost:8080/",
          "height": 35
        }
      },
      "source": [
        "print(X.shape)"
      ],
      "execution_count": 0,
      "outputs": [
        {
          "output_type": "stream",
          "text": [
            "(8544, 46)\n"
          ],
          "name": "stdout"
        }
      ]
    },
    {
      "cell_type": "code",
      "metadata": {
        "id": "SGl0L31lbpDD",
        "colab_type": "code",
        "outputId": "6f9dcb65-2c18-4c6e-bb78-02a485f90e48",
        "colab": {
          "base_uri": "https://localhost:8080/",
          "height": 268
        }
      },
      "source": [
        "Y = ohe.fit_transform(np.array(y_train_ind).reshape(-1,1)).toarray()\n",
        "y = ohe.fit_transform(np.array(y_test_ind).reshape(-1,1)).toarray()\n",
        "model.fit(X,Y, batch_size =batch_size, epochs = 5)"
      ],
      "execution_count": 0,
      "outputs": [
        {
          "output_type": "stream",
          "text": [
            "/usr/local/lib/python3.6/dist-packages/tensorflow/python/framework/indexed_slices.py:434: UserWarning: Converting sparse IndexedSlices to a dense Tensor of unknown shape. This may consume a large amount of memory.\n",
            "  \"Converting sparse IndexedSlices to a dense Tensor of unknown shape. \"\n"
          ],
          "name": "stderr"
        },
        {
          "output_type": "stream",
          "text": [
            "Epoch 1/5\n",
            "8544/8544 [==============================] - 183s 21ms/step - loss: 1.4800 - accuracy: 0.3475\n",
            "Epoch 2/5\n",
            "8544/8544 [==============================] - 191s 22ms/step - loss: 1.2591 - accuracy: 0.4522\n",
            "Epoch 3/5\n",
            "8544/8544 [==============================] - 193s 23ms/step - loss: 1.0887 - accuracy: 0.5427\n",
            "Epoch 4/5\n",
            "8544/8544 [==============================] - 189s 22ms/step - loss: 0.9455 - accuracy: 0.6113\n",
            "Epoch 5/5\n",
            "8544/8544 [==============================] - 187s 22ms/step - loss: 0.8072 - accuracy: 0.6722\n"
          ],
          "name": "stdout"
        },
        {
          "output_type": "execute_result",
          "data": {
            "text/plain": [
              "<keras.callbacks.callbacks.History at 0x7eff650c6e48>"
            ]
          },
          "metadata": {
            "tags": []
          },
          "execution_count": 44
        }
      ]
    },
    {
      "cell_type": "code",
      "metadata": {
        "id": "fTUaHlFNTVcQ",
        "colab_type": "code",
        "colab": {}
      },
      "source": [
        " score,evalu=model.evaluate(x,y,verbose=2,batch_size=batch_size)"
      ],
      "execution_count": 0,
      "outputs": []
    },
    {
      "cell_type": "code",
      "metadata": {
        "id": "B6akF0gqWXb9",
        "colab_type": "code",
        "outputId": "cf77b8e8-9f3e-4736-8eb8-9147493b2f93",
        "colab": {
          "base_uri": "https://localhost:8080/",
          "height": 35
        }
      },
      "source": [
        " print(evalu)"
      ],
      "execution_count": 0,
      "outputs": [
        {
          "output_type": "stream",
          "text": [
            "0.38597285747528076\n"
          ],
          "name": "stdout"
        }
      ]
    },
    {
      "cell_type": "code",
      "metadata": {
        "id": "VMunS0mkP0l3",
        "colab_type": "code",
        "colab": {}
      },
      "source": [
        "# import pickle\n",
        "# # x_train.isnull().any().sum()\n",
        "# i=0\n",
        "# j=0\n",
        "# tokens_train={}\n",
        "# tokens_test={}\n",
        "# for sent in x_train['sentence']:\n",
        "#   x_train.loc[i]=sent.lower()\n",
        "#   tokens_train[i]=x_train.sentence[i].split()\n",
        "#   tokens_train[i]=[t for t in tokens_train[i] if t.isalpha()]\n",
        "#   i=i+1\n",
        "# for sent in x_test['sentence']:\n",
        "#   x_test.loc[j]=sent.lower()\n",
        "#   tokens_test[j]=x_test.sentence[j].split()\n",
        "#   tokens_test[j]=[t for t in tokens_test[j] if t.isalpha()]\n",
        "#   j=j+1\n",
        "# # print(tokens)\n",
        "# # pickle.dump(tokens_train,open('/content/drive/My Drive/voc_train.pickle', 'wb'))\n",
        "# # pickle.dump(tokens_test,open('/content/drive/My Drive/voc_test.pickle', 'wb'))\n"
      ],
      "execution_count": 0,
      "outputs": []
    },
    {
      "cell_type": "code",
      "metadata": {
        "id": "crp8O_1aWGrY",
        "colab_type": "code",
        "outputId": "56f75125-9700-405d-dd53-1f3d6a4f138b",
        "colab": {
          "base_uri": "https://localhost:8080/",
          "height": 35
        }
      },
      "source": [
        "# voc_test=pickle.load(open('/content/drive/My Drive/voc_test.pickle', 'rb'))\n",
        "# voc_train=pickle.load(open('/content/drive/My Drive/voc_train.pickle', 'rb'))\n",
        "# len(np.array(list(token_train.values())))"
      ],
      "execution_count": 0,
      "outputs": [
        {
          "output_type": "execute_result",
          "data": {
            "text/plain": [
              "14702"
            ]
          },
          "metadata": {
            "tags": []
          },
          "execution_count": 45
        }
      ]
    },
    {
      "cell_type": "markdown",
      "metadata": {
        "id": "2MT6lugWkUmx",
        "colab_type": "text"
      },
      "source": [
        "BERT embeddings"
      ]
    },
    {
      "cell_type": "code",
      "metadata": {
        "id": "p-2J3XoEWF92",
        "colab_type": "code",
        "outputId": "1ab23453-738b-41da-cdbf-47e95b0fccee",
        "colab": {
          "base_uri": "https://localhost:8080/",
          "height": 34
        }
      },
      "source": [
        "model = SentenceTransformer('bert-base-nli-mean-tokens')\n",
        "sentences = ['This framework generates embeddings for each input sentence',  'Sentences are passed as a list of string.', 'The quick brown fox jumps over the lazy dog.']\n",
        "# sentence_embeddings = model.encode(x_train_sent['sentence'])"
      ],
      "execution_count": 0,
      "outputs": [
        {
          "output_type": "stream",
          "text": [
            "100%|██████████| 405M/405M [00:18<00:00, 21.5MB/s]\n"
          ],
          "name": "stderr"
        }
      ]
    },
    {
      "cell_type": "code",
      "metadata": {
        "id": "cX9ApF1A26OK",
        "colab_type": "code",
        "colab": {}
      },
      "source": [
        "sentence_embeddings_test=model.encode(x_test_sent['sentence'])"
      ],
      "execution_count": 0,
      "outputs": []
    },
    {
      "cell_type": "markdown",
      "metadata": {
        "id": "qYi8L4cFkZhE",
        "colab_type": "text"
      },
      "source": [
        "Sentence Embeddings of train and test data"
      ]
    },
    {
      "cell_type": "code",
      "metadata": {
        "id": "3Y_nUeTdIXA1",
        "colab_type": "code",
        "colab": {}
      },
      "source": [
        "# pickle.dump(sentence_embeddings_test,open('/content/drive/My Drive/embeding_test.pickle', 'wb'))\n",
        "# pickle.dump(sentence_embeddings,open('/content/drive/My Drive/embeding.pickle', 'wb'))\n",
        "# !cat /content/drive/My\\ Drive/f.txt"
      ],
      "execution_count": 0,
      "outputs": []
    },
    {
      "cell_type": "code",
      "metadata": {
        "id": "-R-_41o6rPY0",
        "colab_type": "code",
        "outputId": "a1375d70-eb02-4f58-b741-4be1fd37ec26",
        "colab": {
          "base_uri": "https://localhost:8080/",
          "height": 35
        }
      },
      "source": [
        "import pickle\n",
        "sentence_embeddings=pickle.load(open('/content/drive/My Drive/embeding.pickle', 'rb'))\n",
        "len(sentence_embeddings)\n",
        "sentence_embeddings_test=pickle.load(open('/content/drive/My Drive/embeding_test.pickle','rb'))\n",
        "y_train_ind.shape"
      ],
      "execution_count": 0,
      "outputs": [
        {
          "output_type": "execute_result",
          "data": {
            "text/plain": [
              "(8544,)"
            ]
          },
          "metadata": {
            "tags": []
          },
          "execution_count": 12
        }
      ]
    },
    {
      "cell_type": "markdown",
      "metadata": {
        "id": "xlxzUM46jAPE",
        "colab_type": "text"
      },
      "source": [
        "ML CLASSIFIERS"
      ]
    },
    {
      "cell_type": "code",
      "metadata": {
        "id": "fbxnjn7FBjaH",
        "colab_type": "code",
        "colab": {}
      },
      "source": [
        "# knn.fit(sentence_embeddings,y_train_ind)\n",
        "# gb_1.fit(sentence_embeddings,y_train_ind)\n",
        "# xgb_1.fit(np.array(sentence_embeddings),y_train_ind)\n",
        "# rf.fit((np.array(sentence_embeddings),y_train_ind)\n",
        "# smx.fit(sentence_embeddings,y_train_ind)\n",
        "# lr.fit(np.array(sentence_embeddings),y_train_ind)\n",
        "# gnb_1.fit(sentence_embeddings,y_train_ind)\n",
        "# y_pred=xgb_1.predict(np.array(sentence_embeddings_test))\n",
        "# y_pred=rf.predict(np.array(sentence_embeddings_test))\n",
        "# y_pred=lr.predict(sentence_embeddings_test)\n",
        "# y_pred=lr.predict(sentence_embeddings_test)\n",
        "# l=[(r,z) for r,z in zip(y_test_ind,y_pred)]\n",
        "# print(tuple(x)).[0:10]\n",
        "# print(l)\n",
        "# accuracy_score(y_test_ind,np.array(y_pred))\n",
        "# print(y_train_ind)\n"
      ],
      "execution_count": 0,
      "outputs": []
    },
    {
      "cell_type": "markdown",
      "metadata": {
        "id": "HyLxQKnWkiaq",
        "colab_type": "text"
      },
      "source": [
        "Neural Network"
      ]
    },
    {
      "cell_type": "code",
      "metadata": {
        "id": "mhM1oF2ppvrL",
        "colab_type": "code",
        "colab": {}
      },
      "source": [
        "import keras\n",
        "from keras.models import Sequential\n",
        "from keras.layers import Dense\n",
        "from keras.optimizers import Adam\n",
        "# sc = StandardScaler()\n",
        "# X = sc.fit_transform(X)\n",
        "ohe = OneHotEncoder()\n",
        "y_test_ind = ohe.fit_transform(y_test_ind.reshape(-1,1)).toarray()\n",
        "y_train_ind = ohe.fit_transform(y_train_ind.reshape(-1,1)).toarray()\n",
        "# X_train,X_test,y_train,y_test = train_test_split(X,y,test_size = 0.1)\n",
        "model = Sequential()\n",
        "model.add(Dense(128, input_dim=(768), activation='relu'))\n",
        "# model.add(Dense(32, activation='relu'))\n",
        "model.add(Dense(16, activation='relu'))\n",
        "model.add(Dense(5, activation='softmax'))\n",
        "model.compile(loss='categorical_crossentropy', optimizer=Adam(lr=0.0001), metrics=['accuracy'])"
      ],
      "execution_count": 0,
      "outputs": []
    },
    {
      "cell_type": "code",
      "metadata": {
        "id": "b4Ar9xg12BER",
        "colab_type": "code",
        "outputId": "a8e61ed6-6b5e-4d45-9fbd-57e5fe4ccdd1",
        "colab": {
          "base_uri": "https://localhost:8080/",
          "height": 35
        }
      },
      "source": [
        "np.array(sentence_embeddings_test).shape"
      ],
      "execution_count": 0,
      "outputs": [
        {
          "output_type": "execute_result",
          "data": {
            "text/plain": [
              "(2210, 768)"
            ]
          },
          "metadata": {
            "tags": []
          },
          "execution_count": 28
        }
      ]
    },
    {
      "cell_type": "code",
      "metadata": {
        "id": "t7DLqANo7Su1",
        "colab_type": "code",
        "outputId": "6243febb-d67a-45d1-8a3e-aa16c405d225",
        "colab": {
          "base_uri": "https://localhost:8080/",
          "height": 35
        }
      },
      "source": [
        "np.array(y_pred).shape"
      ],
      "execution_count": 0,
      "outputs": [
        {
          "output_type": "execute_result",
          "data": {
            "text/plain": [
              "(2210, 5)"
            ]
          },
          "metadata": {
            "tags": []
          },
          "execution_count": 31
        }
      ]
    },
    {
      "cell_type": "code",
      "metadata": {
        "id": "J0OL4MM7vAn1",
        "colab_type": "code",
        "outputId": "6832e62d-914f-4df5-d3f3-dd27b5c4087b",
        "colab": {
          "base_uri": "https://localhost:8080/",
          "height": 390
        }
      },
      "source": [
        "# print(X_train.shape)\n",
        "history = model.fit(np.array(sentence_embeddings), y_train_ind, epochs=10, batch_size=32)\n",
        "y_pred = model.predict(np.array(sentence_embeddings_test))\n",
        "y_pred=np.array(y_pred)\n",
        "pred = list()\n",
        "for i in range(len(y_pred)):\n",
        "    pred.append(np.argmax(y_pred[i]))\n",
        "test = list()\n",
        "for i in range(len(y_test_ind)):\n",
        "    test.append(np.argmax(y_test_ind[i]))\n",
        "a = accuracy_score(pred,test)\n",
        "print('Accuracy is:', a*100)"
      ],
      "execution_count": 0,
      "outputs": [
        {
          "output_type": "stream",
          "text": [
            "Epoch 1/10\n",
            "8544/8544 [==============================] - 1s 92us/step - loss: 1.4123 - accuracy: 0.3841\n",
            "Epoch 2/10\n",
            "8544/8544 [==============================] - 1s 78us/step - loss: 1.2455 - accuracy: 0.4446\n",
            "Epoch 3/10\n",
            "8544/8544 [==============================] - 1s 78us/step - loss: 1.1905 - accuracy: 0.4624\n",
            "Epoch 4/10\n",
            "8544/8544 [==============================] - 1s 78us/step - loss: 1.1583 - accuracy: 0.4886\n",
            "Epoch 5/10\n",
            "8544/8544 [==============================] - 1s 77us/step - loss: 1.1343 - accuracy: 0.5125\n",
            "Epoch 6/10\n",
            "8544/8544 [==============================] - 1s 82us/step - loss: 1.1163 - accuracy: 0.5183\n",
            "Epoch 7/10\n",
            "8544/8544 [==============================] - 1s 79us/step - loss: 1.1010 - accuracy: 0.5287\n",
            "Epoch 8/10\n",
            "8544/8544 [==============================] - 1s 79us/step - loss: 1.0870 - accuracy: 0.5359\n",
            "Epoch 9/10\n",
            "8544/8544 [==============================] - 1s 77us/step - loss: 1.0737 - accuracy: 0.5423\n",
            "Epoch 10/10\n",
            "8544/8544 [==============================] - 1s 80us/step - loss: 1.0609 - accuracy: 0.5471\n",
            "Accuracy is: 48.959276018099544\n"
          ],
          "name": "stdout"
        }
      ]
    },
    {
      "cell_type": "code",
      "metadata": {
        "id": "B8nmSXO95Zdm",
        "colab_type": "code",
        "outputId": "67ab7876-8aa8-4267-cb44-0fa9698f168d",
        "colab": {
          "base_uri": "https://localhost:8080/",
          "height": 35
        }
      },
      "source": [
        "y_train.shape"
      ],
      "execution_count": 0,
      "outputs": [
        {
          "output_type": "execute_result",
          "data": {
            "text/plain": [
              "(512, 2)"
            ]
          },
          "metadata": {
            "tags": []
          },
          "execution_count": 51
        }
      ]
    },
    {
      "cell_type": "markdown",
      "metadata": {
        "id": "fifxeIT3kmfw",
        "colab_type": "text"
      },
      "source": [
        "Text-Blob"
      ]
    },
    {
      "cell_type": "code",
      "metadata": {
        "id": "ZE_QXbNQ4YhJ",
        "colab_type": "code",
        "outputId": "63d7371d-9f3d-4c40-e650-5498ce105f56",
        "colab": {
          "base_uri": "https://localhost:8080/",
          "height": 35
        }
      },
      "source": [
        "from textblob import TextBlob\n",
        "y_pr=[]\n",
        "for sentence in list(x_test_sent['sentence']):\n",
        "  y_pr.append(TextBlob(sentence).sentiment.polarity)\n",
        "y_pr\n",
        "df=pd.DataFrame(y_pr,columns=['sent'])\n",
        "df['sent']=pd.cut(df['sent'],bins=5,labels=[0,1, 2, 3, 4])\n",
        "accuracy_score(x_test['label'],df['sent'])"
      ],
      "execution_count": 0,
      "outputs": [
        {
          "output_type": "execute_result",
          "data": {
            "text/plain": [
              "0.283710407239819"
            ]
          },
          "metadata": {
            "tags": []
          },
          "execution_count": 58
        }
      ]
    },
    {
      "cell_type": "markdown",
      "metadata": {
        "id": "Ue6ajp6ukqWE",
        "colab_type": "text"
      },
      "source": [
        "Vader Lexicon"
      ]
    },
    {
      "cell_type": "code",
      "metadata": {
        "id": "wQ0mF7kGyY6j",
        "colab_type": "code",
        "outputId": "fdd38f05-9199-40be-8774-bfa503882222",
        "colab": {
          "base_uri": "https://localhost:8080/",
          "height": 35
        }
      },
      "source": [
        "import nltk\n",
        "# nltk.download('vader_lexicon')\n",
        "from nltk.sentiment.vader import SentimentIntensityAnalyzer\n",
        "vader=SentimentIntensityAnalyzer()\n",
        "y_pr=[]\n",
        "for sentence in list(x_test_sent['sentence']):\n",
        "  y_pr.append(vader.polarity_scores(sentence)['compound'])\n",
        "y_pr\n",
        "df=pd.DataFrame(y_pr,columns=['sent'])\n",
        "df['sent']=pd.cut(df['sent'],bins=5,labels=[0, 1, 2, 3, 4])\n",
        "accuracy_score(x_test['label'],df['sent'])"
      ],
      "execution_count": 0,
      "outputs": [
        {
          "output_type": "execute_result",
          "data": {
            "text/plain": [
              "0.3153846153846154"
            ]
          },
          "metadata": {
            "tags": []
          },
          "execution_count": 56
        }
      ]
    },
    {
      "cell_type": "markdown",
      "metadata": {
        "id": "0oizdy1TktVg",
        "colab_type": "text"
      },
      "source": [
        "Converting SST-5 to SST-2"
      ]
    },
    {
      "cell_type": "code",
      "metadata": {
        "id": "-t7Aat3sPiWG",
        "colab_type": "code",
        "colab": {}
      },
      "source": [
        "def convert(n):\n",
        "  if(n>2):\n",
        "    n=1\n",
        "  else:\n",
        "    n=0\n",
        "  return n "
      ],
      "execution_count": 0,
      "outputs": []
    },
    {
      "cell_type": "code",
      "metadata": {
        "id": "kZM7VGEhx4zJ",
        "colab_type": "code",
        "outputId": "793c5e61-ca0c-4473-9ff2-c0c21ae133ab",
        "colab": {
          "base_uri": "https://localhost:8080/",
          "height": 35
        }
      },
      "source": [
        "y_train_ind=np.array(y_train_ind)\n",
        "y_test_ind=np.array(y_test_ind)\n",
        "y_sst2_t=[]\n",
        "y_sst2_tes=[]\n",
        "for i in y_test_ind:\n",
        "  y_sst2_tes.append(convert(i))\n",
        "for i in y_train_ind:\n",
        "  y_sst2_t.append(convert(i))\n",
        "y_sst2_t=np.array(y_sst2_t)\n",
        "y_sst2_tes=np.array(y_sst2_tes)\n",
        "y_sst2_t\n",
        "y_sst2_t.shape"
      ],
      "execution_count": 0,
      "outputs": [
        {
          "output_type": "execute_result",
          "data": {
            "text/plain": [
              "(8544,)"
            ]
          },
          "metadata": {
            "tags": []
          },
          "execution_count": 16
        }
      ]
    },
    {
      "cell_type": "code",
      "metadata": {
        "id": "JywdkiNaJSU2",
        "colab_type": "code",
        "outputId": "b7fda099-69bf-4192-a2c5-2a1c282c071e",
        "colab": {
          "base_uri": "https://localhost:8080/",
          "height": 35
        }
      },
      "source": [
        "a=np.array(sentence_embeddings)\n",
        "a.shape"
      ],
      "execution_count": 0,
      "outputs": [
        {
          "output_type": "execute_result",
          "data": {
            "text/plain": [
              "(8544, 768)"
            ]
          },
          "metadata": {
            "tags": []
          },
          "execution_count": 79
        }
      ]
    }
  ]
}